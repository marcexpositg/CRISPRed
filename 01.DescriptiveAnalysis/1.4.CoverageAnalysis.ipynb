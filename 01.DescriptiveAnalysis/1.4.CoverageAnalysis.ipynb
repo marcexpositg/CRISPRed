{
  "nbformat": 4,
  "nbformat_minor": 0,
  "metadata": {
    "colab": {
      "name": "1.4.CoverageAnalysis",
      "provenance": [],
      "toc_visible": true,
      "authorship_tag": "ABX9TyM1UtBR9bnMVv6vCkNCt79Y",
      "include_colab_link": true
    },
    "kernelspec": {
      "name": "python3",
      "display_name": "Python 3"
    }
  },
  "cells": [
    {
      "cell_type": "markdown",
      "metadata": {
        "id": "view-in-github",
        "colab_type": "text"
      },
      "source": [
        "<a href=\"https://colab.research.google.com/github/marcexpositg/CRISPRed/blob/master/01.DescriptiveAnalysis/1.4.CoverageAnalysis.ipynb\" target=\"_parent\"><img src=\"https://colab.research.google.com/assets/colab-badge.svg\" alt=\"Open In Colab\"/></a>"
      ]
    },
    {
      "cell_type": "markdown",
      "metadata": {
        "id": "h2Jz_qjGs6Gs",
        "colab_type": "text"
      },
      "source": [
        "# 1.4. Coverage Analysis"
      ]
    },
    {
      "cell_type": "markdown",
      "metadata": {
        "id": "7cATWJrws9QW",
        "colab_type": "text"
      },
      "source": [
        "The final objective of this work is predicting the gene editing outcomes from the sequence of the edited region. For that, a library with a high number of variants is used, so most cells will not be edited in a target region. Hence, the sequencing coverage for the editing areas should be high enough to observe multiple gene editing outcomes for each target genomic region.\n",
        "\n",
        "The objective of this section is determining the coverage of the target genomic regions.\n",
        "\n",
        "Summary of the method:\n",
        "\n",
        "- (1. Obtain coverage of all target regions) Target coordinates in `C3H_gRNA-coordinates.bed` are used to look at the genomic alignment files (`.bam`) to get the coverage (number of reads that align to a position in the genome) of each nucleotide in the target regions (the regions where gRNA aligins). This generates a pileup file for each sample.\n",
        "\n",
        "- (2. Get mean coverage for each target region) Pileup files and the target coordinates are used to calculate the mean coverage of the nucleotides in each target region. The result is one CSV file per sample, indicating the mean coverage per target region.\n",
        "\n",
        "- (3. Plot the results) The coverage per target region is represented to compare between samples."
      ]
    },
    {
      "cell_type": "markdown",
      "metadata": {
        "colab_type": "text",
        "id": "pFVBUR1WIZoC"
      },
      "source": [
        "## 1. Obtain coverage of all target regions\n",
        "\n",
        "First, the coverage of each nucleotide belonging to a target region is determined.\n",
        "\n",
        "For that, the aligned reads of the genomic sequencing samples are used (`.bam`, specified as `GenomicReads` variable), together with the fasta file of the reference genome C3H (`GCA_001632575.1_C3H_HeJ_v1.fa`), and the file produced in section 03 which indicates the coordinates of the target regions in the reference genome C3H (`C3H_gRNA-coordinates.bed`).\n",
        "\n",
        "Since this files are large, and a specialized tool is used (`SAMtools mpileup`), the analyisis was run on a cluster, and files are not uploaded here. The analysis took nearly 30 minutes for each sample. Here, we show how this tool was used in the cluster.\n",
        "\n",
        "The output of this process is a `.pileup` file containing the coverage for each nucleotide. An example of the output file is shown in the next section."
      ]
    },
    {
      "cell_type": "markdown",
      "metadata": {
        "colab_type": "text",
        "id": "SUbyduHxIZoI"
      },
      "source": [
        "```\n",
        "#!/bin/bash\n",
        "#SBATCH -p normal \n",
        "#SBATCH -N 1\n",
        "#SBATCH --ntasks-per-node=1\n",
        "#SBATCH --mem-per-cpu 1000 \n",
        "#SBATCH --time=10:00:00\n",
        "#SBATCH --mail-type=ALL\n",
        "#SBATCH --mail-user=###\n",
        "\n",
        "#SBATCH -e stderr_filt_%j.err\n",
        "#SBATCH -o stdout_filt_%j.out\n",
        "\n",
        "### LOAD INITIAL MODULES ###\n",
        "module load SAMtools/1.9-foss-2016b\n",
        "\n",
        "### SAVE VARIABLES ###\n",
        "GenomicReads=$1\n",
        "OutFile=$2\n",
        "\n",
        "### PIPELINE ###\n",
        "samtools mpileup  -f ../Reference_Genomes/GCA_001632575.1_C3H_HeJ_v1.fa -l ./C3H_gRNA-coordinates.bed $GenomicReads -o $OutFile -a\n",
        "\n",
        "#### Command:\n",
        "#### execute inside /Coverage/ folder\n",
        "#### sbatch pileup_gen_final.sh <genomicReads.bam> <outputFile.pileup>\n",
        "```\n",
        "\n"
      ]
    },
    {
      "cell_type": "markdown",
      "metadata": {
        "id": "lP8sEjX7I97B",
        "colab_type": "text"
      },
      "source": [
        "Executed like that:\n",
        "\n",
        "\n",
        "\n",
        "```\n",
        "[mexposit@mr-login CoverageMarc]$ sbatch pileup_gen_final.sh ../Alignments_C3H/1-Cas9-pef-lib_C3H_aln.sorted.bam Cas9P_corr.pileup\n",
        "[mexposit@mr-login CoverageMarc]$ sbatch pileup_gen_final.sh ../Alignments_C3H/2-Cas9-miss-lib_C3H_aln.sorte\n",
        "d.bam Cas9M_corr.pileup\n",
        "[mexposit@mr-login CoverageMarc]$ sbatch pileup_gen_final.sh ../Alignments_C3H/3-ABE-lib_C3H_aln.sorted.bam\n",
        "ABE_corr.pileup\n",
        "[mexposit@mr-login CoverageMarc]$ sbatch pileup_gen_final.sh ../Alignments_C3H/4-CBE-lib_C3H_aln.sorted.bam\n",
        "CBE_corr.pileup\n",
        "```\n",
        "\n"
      ]
    },
    {
      "cell_type": "markdown",
      "metadata": {
        "colab_type": "text",
        "id": "mTnPHDE5IZoJ"
      },
      "source": [
        "## 2. Get mean coverage for each target region\n",
        "\n",
        "The previous step determined the coverage of each nucleotide in the target regions, and kept the result in a `.pileup` file. Since this files are relatively large, only one of them is loaded here, with name `Cas9P_sub.pileup`. There are three more files like that, each for the Cas9M, CBE and ABE samples.\n",
        "\n",
        "Here, we show the header of this `pileup` file. Each line is a genomic position in the C3H genome. The first column indicates the chromosome number, the second the nucleotide position in the C3H genome, the third the nucleotide at this position, the fourth the reads (coverage) at this position. The fifth indicates the nucleotide of each read in that position (. is the same as in reference, and other simbols indicate a subsitution or deletion), and sixth the quality of the read at that positon. We will only use the information in the first four columns, as the fourth column indicates the coverage of each nucleotide."
      ]
    },
    {
      "cell_type": "code",
      "metadata": {
        "colab_type": "code",
        "id": "273YXSBUIZoK",
        "colab": {
          "base_uri": "https://localhost:8080/",
          "height": 34
        },
        "outputId": "f86c93fa-ae9c-4028-9a1f-d9d581ba5526"
      },
      "source": [
        "# Import one pileup file as an example from Github\n",
        "# The file is relatively large (50MB), so it takes a bit.\n",
        "import requests\n",
        "pileup_url = 'https://raw.githubusercontent.com/marcexpositg/CRISPRed/master/01.DescriptiveAnalysis/GenomicCoverage/Cas9P_corr.pileup'\n",
        "pileup_file = requests.get(pileup_url, allow_redirects=True)\n",
        "open('Cas9P_corr.pileup', 'wb').write(pileup_file.content)\n",
        "\n",
        "#from google.colab import drive\n",
        "#drive.mount('/content/drive')\n",
        "#%cd \"drive/My Drive/CRISPred/01.DescriptiveAnalysis\""
      ],
      "execution_count": 1,
      "outputs": [
        {
          "output_type": "execute_result",
          "data": {
            "text/plain": [
              "51504511"
            ]
          },
          "metadata": {
            "tags": []
          },
          "execution_count": 1
        }
      ]
    },
    {
      "cell_type": "code",
      "metadata": {
        "colab_type": "code",
        "id": "Ly5acNpTIZoP",
        "colab": {
          "base_uri": "https://localhost:8080/",
          "height": 207
        },
        "outputId": "c9a5eff8-56d4-43a5-ebbe-f99759af21d0"
      },
      "source": [
        "# first column indicates chromosome, second: genomic location, third: base identity, fourth: squencing reads that aligned in that region (coverage)\n",
        "!head Cas9P_corr.pileup"
      ],
      "execution_count": 2,
      "outputs": [
        {
          "output_type": "stream",
          "text": [
            "chr1\t14549564\tG\t607\t..,,,...,.,,,.....,,.,........,..,,.....,..,,.,,,,,,,......,...,.,..,..,.,....,.,,,,.....,......,,..,,............,.........,............,,...,,............,,....................,......,,.........,...,,.....................,..,,,........,,,........,,.......,.....,,.............,,,,.....................,.......,,.........,..,..............................,.......$.....,....,,.,,,,,...,......,.....................,,......,.........................................,,..,.,................,...,.....................................,.............................,......................................^].^].^].^].^].^].^].^].^].\ti8GGGC94GYGGGiOmkmGGNGNOiljONYGVZGGkmmmiGmm;CmGGGGGGGhmi]e5GNmmGBG^kGkfGOGUmm3GmGGGGY3ijkGmmimmmGGmkGG=lVkmmmc^[ci<ijmimRkmmGWGikmimmmb<mDGm[m>GhmmihmmRkGmmGGGmlmmiAmmmhmiji^iikmDmmmGGmGGmmGjmmkmCBlmmGGmGmmhkjmmGmmm:mmmPidmGekGGEGGjlhlmmGGGGmbmmimWGGmmmmmkmGGEGGm?:mmmGmmmmGlmmGGGGEGmmmkimmgkmmmmmmGm7m3GmGmimmYFG:km^@mlmdCmmGGciclimmmmQ@mmmmmmmmmGmGjmlmGmBGGGmgGeDmdiGEbmmjGEm;DGEmGhmGFGmmmmQmmmmVmlmkmmmmmmlmmmDGGGkhkmmmGmmmmGmmjGmGl`mcmmmGGGdmmGmlmGmlkGmlGmcmmmGGmGDmDGGGmmGhmlGmmCmlGBmmGGmmGmkkmmmGmmmmmmmmlkXm_mmmmmmmmGG@GGGDmjmdkGmmmmmGmmmGmmFjmGmYmmmmhllmmEGGGlmmmhmmGGGmGGGmGGGfeiCiigiiidfigVgeggggg\n",
            "chr1\t14549565\tC\t610\t.,,,..,.,,,.....,,.,..........,..,,.....,..,,.,,,,,,,......,...,.,..,..,.,....,,.,,,,.....,......,,..,,............,.........,.........,...,,...,,............,,....................,......,,.........,...,,.....................,..,,,........,,,........,,.......,.....,.............,,,,.....................,.......,,........,..,...........................................,....,,.,,,,,...,......,.....................,,......,.........................................,,..,.,................,...,,..........,...........................,.............................,...............................................^].\tmCGG\\;GcGGGfNmkiGGTGOXkRjRZW.]G\\WGGmmmmmGjmG7mGGGGGGGWmiZg>GZmmGdDf[GmkG[GBmm3GGmGGGG`7kmjGmmmmjmGGmmGFCkWimmiii^ki6kmmmmOlmmGUEkmmmmmm:ZEmFGmkmFG[mmilmm[lGmmGGGmmkmk4mmmmmlmkSmfjmGmmmDGmGGmmGmmmmmEFlmmGGmGmm\\mmmmEmmm7mmmljlmG]lGGCGGlmmgmmGGGGmVmmfmaFGmmmmmimGGCGGmEmmkGmmmmGlkmGGGGFGmmmmkmmlmmmmmmmGmCm=GmGmkmmjGGjm`Cmhm`GmmFGbkimmmmmkfFmm@mmmmmm4mGmGlmkmGmGGGmjGGmm[GChmmiG>m5EGGm7jmGGGmjmk\\mmmm`mjmkmmmmmmhmmmGGGGm\\immmGmmmmGmmkGmGedm4mmmGGGUmmGmlmGmmmGmkGk2jmmDDmG?mEGGGmmGijlGmmCmfG:lkGCEmmGmfimmmGEmmmmmmmmjmNmNjmmmmmmmGG7GGG:mmmZjGmmmmmGkmmGmmGmlGm`mimmmmjmmEGGhmmmfmmGGGmGGGmGGGkjmGmi`@iii\\`ihai_iiiiiC\n",
            "chr1\t14549566\tG\t619\t..,,,..,.,,,......,,.,.........,..,,.....,..,,.,,,,,,,......,...,.,..,..,.,....,,.,,,,.....,......,,..,,.....................,.........,...,,...,,............,,....................,......,,.........,...,,.....................,..,,,........,,,........,,.......,.....,,.............,,,,.....................,.......,,.........,..,................................,...........,....,,.,,,,,...,......,.....................,,......,.........................................,,..,.,................,..,,..........,...........................,.....,........................,..................................................^].^].^].^].\tm9CCGg9GlGGGjYmj.iFGTGN_kRmO]0YGJ[GGmmkmmGmmG:mGGGGGGGdmi_g3GNmkG^GjPGmkGdGSmm/GGmCGGGb:ikgGmmimmmGGjiGCEmfmmmkk`hikjkmjmdmmmGPGkmmmmmi8R1kFGmmkCGemm^mmmZ\\GmmEFGmmmmjWmmmmmmmm^mkkmGmmjGGmGGmkGmmmmmG>lmlGGmGmm[mmmmGmkmFmmmmjlmGYjGGGGDdmdimmGGGGl\\mmhmbGGmmmmmmmGGFGGm?GmmlGmmmmGjmmGGGGGGmmmmgmmmmmmmmmmGmFm:GmGmlmmhGE@kmiFmmm`Glj>Ghmimjmmmm`Dmm>mjmmmm7mGmGmmimGm>GGGmmGEmkiGGhmmiGGmCCEGmFlmDGGmmmkYmmmmhmhmmmmjmmmlmmmGGGCmmfjmlEmmmmGmmkGmGilmTmmmGEGVmmGmlkGmjmGmjGj`mmmGGmG4mFGGGmmGlkkGmmCmdG2mGECmmGmlkmjmG@mmmmmmmmlmYm^mmmmmmmmGGFGGG9lmmbk?GmmmmmGmmmGmmGmkGmZmmmmlmdmmFGGFdmmm[mmGGGmGGGmGGGlimGmmkBmmmaale]ieiiiii6Cgggg\n",
            "chr1\t14549567\tT\t612\t.$.,,,.,.,,,.....,,.,.........,..,,.....,..,,.,,,,,,,......,.,.,.,..,..,.,....,,.,,,,.....,......,,..,,............,.........,.........,...,,...,,........,...,,....................,......,,.........,...,,.....................,..,,,........,,,........,,.......,.....,.............,,,,.....................,.......,,.........,.............................................,....,,.,,,,,...,......,.....................,,......,.........................................,,...,...................,,..........,...........................,.............................,.....................................................\tU>CCC`G[GGG]RmPiEG^GNNjO_TNd\\GXZGGmmikkGmmG@mDGGGGGGfhggg7Gm?jGgGmOGijEkGPmm7FGiGGGG_Cm]kGml[mkmGGjYGGEm]mmkmmiKmmCmkmkmQkmmGUGmmmjhmm6?BiFGkmiGGkmm`mmm_<CmmGEGkmmmicmm`lmmmmZmk^mGlikGGkGGmmGmkbmmG@lmlFGmGmmelmmmEmfmFmmmmifmGYhGGEGG_mY`mmGGEGlZmllm^GGmmimmimFGFGGmFmmiGmmlmGdmmGGGGGGkkmmjmmlmmmmmmmGmEmFGmGmfmmkGFFmmfEmlk^GmdGli[mlmmjilGlm4mdmmmm8i:mGfmlmFmFGGmjGFmiiGDammkGEmC86EmCkmBEGmmmmammmmlm[lmmmmmmmhmmmGGGGmilimlGmmmmGlmmGmGlgmimmmFFG[mmGmliGmckGmlGjimkmGGmGlFGGGmmGjilGmlEm[Gm`GGDmmGmjimmmGCmmmmmmmjlkWmYmmmmmmmmGG6GGG.lmmVgCmmkmmGkmmGmmGmlGmimkmmlk_mmGGG@mmlm_mmGGGmGGGmGGGmhm6mmmCmmmaVh_hhfiiiiiCiiie\n",
            "chr1\t14549568\tT\t617\t.$,,,.,.,,,......,,.,..........,..,,.....,..,,.,,,,,,,...$..$.,...,.,..,..,.,....,,.,,,,.,....,......,,..,,............,.........,.........,...,,...,,............,,....................,......,,............,,.....................,..,,,........,,,........,,.......,.....,.............,,,,.....................,.......,,.........,..,...............................,...........,....,,.,,,,,...,......,.....................,,......,..........................................,,...,................,...,,..........,...........................,.............................,......................................................\t3CCCWGkGGGT^mO4iCGNGUZmRjZTh9dG^WGEmkmmkGjmG7mGGGGGGGhkcG_5GSmmGNGlUGmjCmGVmm9FGjCGGGWG>m[mGmjjmmmGGmiGFDm_kmmmiiPmm6mmmkm4imkGWGmmmmimm8lP]@GkmkGGhmmkmmmQQEmmGGGmlmmm`mmklmimmMmiikGmjmGGkGGmiGmmlmmGmmm:GmGmmUllmmDmlmEmmmmilmG\\lGGEGGhmihkmGGGGmNmljm`GGmmmmmim>GGGGmGmmeGmmmmklmjhGGGEGmmjmkmmmmmmmmmmGmFm@GmGm_mmiGCFmmQFmkmOFmgCGhlkjmmmmlhGmmmmmmmm4mFmGlmemEj>CGGmjGEmmaGGWmm\\GGmE6EGmF_mDCGmkmmTmmmmkmkmmmmmmimdkmmGGGGmgi[miEmmmmGlmmGmGlcmgmmm7ECGkmmGmj`GmllGmjGm[mkmGGmGlGGGGmmGkmjGmmGmdGDm`GCGmmGmkimmjGCmmmmmmmmfm?m_mmmmmmmmGGFGGG;dmm[gEmmmmmGkmmGmmGmiGjlmimmldlmmGGGFgmlmNmmGGGmGGDmGGGmcm@mmmBmmmdldhYiRiiiiiACiii_\n",
            "chr1\t14549569\tC\t616\t,$,,...,.,,,.....$,,.,..........,..,,.....,..,.,,,,,,,....,...,.,..,..,.,...,,.,,,,.,....,......,,..,,............,.........,............,...,,............,,....................,......,,............,,.....................,..,,,........,,,........,,.......,.....,.............,,,,.....................,.......,,.........,..,..........................................,....,,.,,,,,...,......,$.....................,,......,.........................................,,..,.,.............T..,...,,.....................................,.............................,......................................................^].^].^].^].^].^].^].\t>CCh14GhGGGZ\\lW[DG_GPemKm\\Yh8hGR`GCmmmmmGjmGmGGGGGGGlkdJG\\mmGOGldGmmGjGCmmCG]:GGGdG>mimGmmjmmmGGmkGGDmfimmmjk]mm6mmmmm4immGaCmmmmmmmdhiGmmmGGimmimmm<`GmmGGGm]mmm^mmkmmimmPmmmmGmimGGjGGmmGjmkmmGmmm7GmGmm[`mmmEmmmGhmmmjgmGdlGGGGGlmliimGGGGmhmmkmVGGmmmmmmmEGGGGmCmmlGmmmmmmmjjGGGCGmmlmimmmmmmmmmmGm:m7GlGmemmQGEGjmmFmimdEkbCGlmjmmmmmmcEmmmmmmmmBmGmGmmfmGmFGGmmGFmm]GGgmmdGEmDG?GmGbmGFGmimmMmmmm_mlmmmmmmjklmmmGGGGmimmmkEjmmmGmmkGmG``mcmmmGGGhmmGmlPGmmmGmlGkimmmGGmG?mDGGGmmGlmlGmmGm`GBmlGEGmmGmkkmkmGmmmmmmmk_m_m\\mmmmmmmmGGBGGG=mmmEkCmmmmmGmmmGmmGmiGjlm`mmi^lmmGDGDmmmmhmjGGGmGCGmGEGlhmFmmk;mmmdliifmbmmmmm@CiiieBBcBcBc\n",
            "chr1\t14549570\tC\t617\t,$,..,.,,,....,,.,..........,..,,.....,..,,.,,,,,,,....,...,.,..,..,.,....,,.,,,,.,....,......,,..,,.....................,.........,...,,...,,............,,....................,......,,.........,...,,.....................,..,,,........,,,........,,.......,.....,.............,,,,....................,.......,,.........,..,................................,...........,....,,.,,,,,...,...........................,,......,.........................................,,...,................,...,,..........,...........................,.............................,.............................................................\tACl:CYGGGl`iiGGYGZlmTm^bl5hG[eGGmmmmmGmmG:mGGGGGGGlm\\]G^mmGHGmlGmlGlGXmm1:GlGGGGiG:m^jGmlmmmmGGmeGGGlYimmmklZmmmmmmm]mmmGPCL\\mmmmmFTdmGGmmmGGlmmkmmmYiGmmGGGmmmmjammimmlmm_kmmmGmlmGGmGGmmGmmmmmG7mmmEGmGmmb]mmmGmlmGmmmmcfmGfhGGCGGlmijjmGGGGmdmmjmhGGmmmmmlmGF8GFmCmmmGmmmmmlkjiGGGGGmmmmkmmmmmmmmmmDm@mGmGmbmmkGCGmmkGmkmhEmjGdlikmkmmmmaFmm8mmmmmmFmGmGmmlmGmDGGGmmGGmm[GFhmmmGGmGGCGmEkmGGGmkmmmmmmlmhmmmmmmmmhimlGGGGmjmmmmGkmmmGmmmGmGYkmdmmmG@G`mmGmlkGmmmGmjGk]kmmGGmGmGGGGmmGkmlGmmGmiGDmgGGEmmGmihmmmG8mmmmmmmmhl_mhmmmmmmmmGGFGGGEmmmOlFmmmmmGmmmGmmGm]Gmimmmml[dmmGGGElmmmcmmGGGmGCGmGAGmkmGmmk<mmmhjlkhmimmmmmFGiiigCCgCgCg\n",
            "chr1\t14549571\tG\t624\t,$..,.,,,....,,.,..........,..,,.....,..,,.,,,,,,,....,...,.,..,..,.,...,,.,,,,.,....,......,,..,,............,.........,.........,...,,...,,............,,....................,......,,.........,...,,.....................,..,,,........,,,........,,.......,.....,.............,,,,.....................,.......,,.........,..,...............................,...........,....,,.,,,,,...,...........................,,......,..........................................,,..,.,................,..,,..........,...........................,.....,........................,.............................................................^].^].^].^].^].^].\tCm6C`GGGkWklGG]Gb\\mWj`el4WGQ`GGkmmmmGlmFFmGGGGGGGllONGgmmGHGldGmjGjGGmm:GlFGGGPG;micGmghmmmGGmiGGGk\\lmmmjg]mmCmlmmmgmmmG`E`immmmmFiLlGGmmmGGjmmimmmIkGmmGGGmlmmmjmmimmimmimlkmGmimGGkGGmkGjmmmmGFmmmGGjGmmemimmGmlmGmmmmkfmG_iGGEGGlm`llmGGGGmkmmjm_GGmmmmmmmGGFGDmEmmmGmmmmmmmfmGGGGGmmmmdmmmmmmmmmmFmFm:GmGmmmmcG=GmmiGmlmfCmlDllijmlmmmmkGmm@mmmmmmlGmGmmimDmFGGGmmGGmllGEjmm\\GGmCGCGmGlmFGGmjmmmmmmlmmmmmmmmmmilmmGGGGmjklmmGhmmmGmmmGmGflmimmmBGFGammGmlkGmmkGmiGhYmmmGFmG?mFGGGmmGkmmGmmGmgGGmGGCmmGmjmmmmG=mmmmmmmmlmkmfmmmmmmmmGGFGGGAmmmal?GmmmmmGmmmGmmGmlGlfmmmmkmimmGGGBmmmmcmmGGGmGEEmGFGmjmGmmk;mmmbkmikmdmmmmm;GmmlhCCiCiCigggggg\n",
            "chr1\t14549572\tC\t624\t.$..,.,,,.....,,.,..........,..,,.....,..,,.,,,,,,,....,...,.,..,..,.,....,.,,,,.,....,......,,..,,............,.........,.........,...,,...,,............,,....................,......,,.........,...,,.....................,..,,,........,,,........,,.......,.....,.............,,,,.....................,.......,.........,..,................................,...........,....,,.,,,,,...,...........................,,......,.........................................,,..,.,................,...,,..........,...........................,.............................,...................................................................\tg64CYCGGf^mi.GG`Gkbmbj\\dl3VGeeGGimmmmGlmDClGGGGGGGllP[D`imGPGm[GmjGlG;mm/G_GGGG_G:meiGmbkmmmGGmkGFGmO_mmmmm`jm8mjmkmCimlGPEkkmmmmmCa_iDGmmmFGimmjmmm_kGmmFCGlmmml_mmimmmmmbmimmGmmmGGlGGmmGmmmmmGFmmmEGmGmm[llmmGmgm<lmmm\\imGTkGGAGGkm^mlmGGGGmkmmimOGGmmmmmlmGGGGGm?mmmGmkmmmmllmGEECGmmmmhmmmlmmmmlmCmCmCGlGmmmmgF:mma@mgm]Cmm>lmijlbmmmmiDmmFmmmmmm4mGmGmmkmEmCGGGmmGGmmkG<emmkGGmGG;GmGjmDGDmmmmmmmmkmkmmmmmmmmimmkGGGGmemimjGmmmmGmmlGmGkim]mmmGGGQmmGmlaGmmkGmmGm[mmmGAlGCjFGGGmmFlmlGmlGmlGGmjGG?mmGmmlmmmG2mmmmmmmmlmimSmmmmmmmmGGGGGG?mmmklGmmmmmGmlmGmmGmmGmlmlmmmkkmmGGGClmml[mmGGGmGFGmG7GmgmGmmi;mmm\\klj^mOmmmmm@GmmkiCCiCiCiihiiii\n",
            "chr1\t14549573\tA\t625\t..,.,,,....,,.,.........,..,,.....,..,,.,,,,,,,....,...,.,..,..,.,....,,.,,,,.,....,......,,..,,............,.........,.........,...,,...,,............,,....................,......,,............,,.....................,..,,,........,,,........,,.......,.....,.............,,,,.....................,,.......,,.........,..,..............G.................,...........,....,,.,,,,,...,...........................,,......,..........................................,,..,.,................,...,,..........,...........................,.............................,...................................................................^].\tOKCdCGGfVmfGGkGO_mjg]NlNGalGGmmmmmGliCCgFGGGGGGdmO[GYimGSGh_GmjGlGNml/CGlGGGG\\G9mmjGmmOmimGGmdGG3mYgmmmimLimGjmmOmjjbmG`>mmmmmmm<]ZmGGmmmGGemmPmmmihGmmGGGjmmmlZmmjmmmmlZmjmmGm]mGGiGGlmGjkmmmGmmmGGmGmm]l]mmEmbm:mmmmkkmG\\mGGGGGgmemkmGGGGmhmklmPGGmmmmmhmGGDG@m<mj]GmmmmmmmlmGGFGGmmmPkmlmmmmmmmmEmFkCGGmGmmmmlGDFmmgFmljRAmlDmlkmm_jmmmmCmm3mlmmmm4mGmGmmjmGmFGGGmmGGmmmGGemmfGFjCGDGmGemFGCjmmlmmmmmmlmmmmmmmjbmmmGGGFmkmimmGlmmmGmmmGmGhlmkmmm@GEGlmmGmk]GmmmGmlGlkmmmFGlGDmFGGGmmGmmlGmmCmbGFmlGGFmmGmjmmmmG9mmmmmmmmlkYm]mmmmmmmmGGGGGGEmmmMl@mmmmmGmmmGmmGlhGm\\mmmmlmkmmGGGFlmklgmlGGGmGGGmGFGlemGmmeFmmmljleZmYmmmmmFEmmljCCiCiCiieiiiiC\n"
          ],
          "name": "stdout"
        }
      ]
    },
    {
      "cell_type": "markdown",
      "metadata": {
        "id": "FnEWGAiNL8Oa",
        "colab_type": "text"
      },
      "source": [
        "The other required file is the file indicating the coordinates for each target region. This file is used to select only the nucleotides in each of the coordinate regions from the pileup file, and calculate the mean coverage per target region."
      ]
    },
    {
      "cell_type": "code",
      "metadata": {
        "id": "g1ZMHYWCMAeE",
        "colab_type": "code",
        "colab": {
          "base_uri": "https://localhost:8080/",
          "height": 187
        },
        "outputId": "49f8ea46-a04d-4bfd-ed81-9eeb8f49795d"
      },
      "source": [
        "coords_file = requests.get('https://raw.githubusercontent.com/marcexpositg/CRISPRed/master/01.DescriptiveAnalysis/GenomicCoverage/C3H_gRNA-coordinates.bed', allow_redirects=True)\n",
        "open('C3H_gRNA-coordinates.bed', 'wb').write(coords_file.content)\n",
        "!head C3H_gRNA-coordinates.bed"
      ],
      "execution_count": 3,
      "outputs": [
        {
          "output_type": "stream",
          "text": [
            "chr6\t100230452\t100230475\tENSMUSG00000033788_gR434r\t0\t+\n",
            "chr6\t100230783\t100230806\tENSMUSG00000033788_gR113f\t0\t-\n",
            "chr6\t100230826\t100230849\tENSMUSG00000033788_gR70f\t0\t-\n",
            "chr15\t100614257\t100614280\tENSMUSG00000023020_gR346r\t0\t-\n",
            "chr15\t100614287\t100614310\tENSMUSG00000023020_gR376r\t0\t-\n",
            "chr15\t100614345\t100614368\tENSMUSG00000023020_gR434r\t0\t-\n",
            "chr12\t100701859\t100701882\tENSMUSG00000021177_gR34f\t0\t+\n",
            "chr12\t100701959\t100701982\tENSMUSG00000021177_gR124r\t0\t-\n",
            "chr12\t100702033\t100702056\tENSMUSG00000021177_gR208f\t0\t+\n",
            "chr13\t100745175\t100745198\tENSMUSG00000021645_gR59f\t0\t+\n"
          ],
          "name": "stdout"
        }
      ]
    },
    {
      "cell_type": "markdown",
      "metadata": {
        "colab_type": "text",
        "id": "IPLJc8oAIZoS"
      },
      "source": [
        "Since genomic samples are enriched target by target, there are differences between the coverage of different targets. Therefore, the distribution of the coverage of each target regions should be studied. \n",
        "\n",
        "Each line in the `pileup` file is a nucleotide in a target region, together with its coordinate and coverage value. Hence, the mean coverage for each target region has to be extracted as the mean coverage for each of the nucleotides in that region. For that, a Python script is used to store the coverage values of each target region. This script uses the `pileup` file of one sample together with the target regions coordinates in bed format. It does so in different steps:\n",
        "\n",
        "- First, the script gets the information from the input files (as tab separated values) and converts it into a pandas data frame.\n",
        "\n",
        "- Then, for each target region (there are 1785, one for each gRNA), searches the `pileup` file for all the nucleotides between the coordinates specified by the `bed` file with the coordinates. This are the nucleotides that form the target region. The script keeps their coverage value (number of reads of that genomic position) and calculates a mean from the coverage of all nucleotides belonging to one target region.\n",
        "\n",
        "- Finally, the results are kept in a `csv` file, described below.\n",
        "\n",
        "Note that the script naturally took the file names from the command line so that it could be reused for each of the four samples, and has been modified in Google Colabs to do it only with the example `pileup` file.\n",
        "\n",
        "**Note: Executing the following script can take about 3-5 minutes.**"
      ]
    },
    {
      "cell_type": "code",
      "metadata": {
        "colab_type": "code",
        "id": "gEncd6LSIZoS",
        "colab": {}
      },
      "source": [
        "#!/usr/bin/env/ python\n",
        "import sys\n",
        "import numpy as np\n",
        "import statistics\n",
        "import pandas as pd\n",
        "\n",
        "def df_from_tsv_file(data_file):\n",
        "    \"\"\"\n",
        "    Opens a file with tab separated values (such as .bed file) and returns it as a pandas dataframe.\n",
        "    The file should have no header.\n",
        "    \"\"\"\n",
        "    df_file = pd.read_csv(data_file, sep=\"\\t\", header=None)\n",
        "    return df_file\n",
        "\n",
        "\n",
        "def mean_cov_per_gRNA(coordinates, pileup):\n",
        "    \"\"\"\n",
        "    Gets genomic cordinates in bed format and searches its coverage in a database containing pileup.\n",
        "    :param coordinates: genomic coordinates in BED format\n",
        "    :param pileup: samtools mpileup output as a pandas dataframe\n",
        "    :return: row of a dataframe with mean and SD of coverage for that target coordinates\n",
        "    \"\"\"\n",
        "    gRNA_name = coordinates[3]\n",
        "    chr = coordinates[0]\n",
        "    start_coord = coordinates[1] + 1\n",
        "    end_coord = coordinates[2]\n",
        "    coverage_hist = []\n",
        "    for position in range(start_coord, end_coord):\n",
        "        site_pileup = pileup.loc[(pileup[\"chr\"] == chr) & (pileup[\"chr_position\"] == position)]\n",
        "        try:\n",
        "            site_coverage = int(site_pileup[\"coverage\"])\n",
        "            coverage_hist.append(site_coverage)\n",
        "        except:\n",
        "            site_coverage = np.nan\n",
        "\n",
        "    try:\n",
        "        coverage_mean = statistics.mean(coverage_hist)\n",
        "        coverage_sd = statistics.stdev(coverage_hist)\n",
        "    except:\n",
        "        coverage_mean = np.nan\n",
        "        coverage_sd = np.nan\n",
        "\n",
        "    nrow = {'gRNA': gRNA_name, 'chr': chr, 'start_coord': start_coord, 'end_coord': end_coord,\n",
        "            'coverage_mean': coverage_mean, 'coverage_sd': coverage_sd, 'coverage_hist': coverage_hist}\n",
        "    return nrow\n",
        "\n",
        "\n",
        "## get filename from command line arguments\n",
        "#try:\n",
        "#    coordinates_file_name = sys.argv[1]\n",
        "#    pileup_file_name = sys.argv[2]\n",
        "#    output_file_name = sys.argv[3]\n",
        "#except IndexError:\n",
        "#    raise SystemExit(f\"Usage: Coverage_target.py <coordinates_file.bed> <pileup_file.pileup> <output_file_name.csv>\")\n",
        "\n",
        "\n",
        "coordinates_file_name = \"C3H_gRNA-coordinates.bed\"\n",
        "pileup_file_name = \"Cas9P_corr.pileup\"\n",
        "output_file_name = \"Cas9P_coverage_example.csv\"\n",
        "# adapted for google colabs\n",
        "#coordinates_file_name = \"C3HCoordinates/C3Hcoord_sub_Seq.bed\"\n",
        "#pileup_file_name = \"GenomicCoverage/Cas9P_sub.pileup\"\n",
        "#output_file_name = \"GenomicCoverage/Cas9P_sub_coverage_example.csv\"\n",
        "\n",
        "\n",
        "# Imports the file containing the genomic coordinates of the target regions\n",
        "Coordinates = df_from_tsv_file(coordinates_file_name)\n",
        "# Imports a file containing the coverage of the nucleotides in the target regions\n",
        "Pileup = df_from_tsv_file(pileup_file_name)\n",
        "Pileup.columns = [\"chr\", \"chr_position\", \"nucleotide\", \"coverage\", \"composition\", \"quality\"]\n",
        "\n",
        "# Initializes the output file as Data Frame\n",
        "Coverage = pd.DataFrame(\n",
        "    columns=['gRNA', 'chr', 'start_coord', 'end_coord', 'coverage_mean', 'coverage_sd', 'coverage_hist'])\n",
        "\n",
        "# calculates the coverage of each target\n",
        "for target_region in range(0, len(Coordinates)):\n",
        "    new_row = mean_cov_per_gRNA(Coordinates.loc[target_region, :], Pileup)\n",
        "    Coverage = Coverage.append(new_row, ignore_index=True)\n",
        "\n",
        "# Exports to CSV format\n",
        "Coverage.to_csv(output_file_name, index=False, na_rep='NULL')"
      ],
      "execution_count": 4,
      "outputs": []
    },
    {
      "cell_type": "markdown",
      "metadata": {
        "id": "eGwi2PmdSCkn",
        "colab_type": "text"
      },
      "source": [
        "The full analysis was done on the remote server, executing a slightly modified version of this script (to take the arguments) like that:\n",
        "\n",
        "```\n",
        "CoverageMarc]$ sbatch coverage_target.sh C3H_gRNA-coordinates.bed Cas9P_corr.pileup Cas9P_coverage_corr.csv\n",
        "Submitted batch job 14866235\n",
        "CoverageMarc]$ sbatch coverage_target.sh C3H_gRNA-coordinates.bed Cas9M_corr.pileup Cas9M_coverage_corr.csv\n",
        "Submitted batch job 14866236\n",
        "CoverageMarc]$ sbatch coverage_target.sh C3H_gRNA-coordinates.bed ABE_corr.pileup ABE_cov\n",
        "erage_corr.csv\n",
        "Submitted batch job 14866237\n",
        "CoverageMarc]$ sbatch coverage_target.sh C3H_gRNA-coordinates.bed CBE_corr.pileup CBE_cov\n",
        "erage_corr.csv\n",
        "```\n",
        "\n",
        "The content of `coverage_target.sh` is just a script that executes and passes command line arguments to the python `coverage_target.py` shown above.\n",
        "\n",
        "\n",
        "\n",
        "```\n",
        "#!/bin/bash\n",
        "#SBATCH -p normal\n",
        "#SBATCH -N 1\n",
        "#SBATCH --ntasks-per-node=1\n",
        "#SBATCH --mem-per-cpu 1000\n",
        "#SBATCH --time=10:00:00\n",
        "#SBATCH -e stderr_filt_%j.err\n",
        "#SBATCH -o stdout_filt_%j.out\n",
        "### LOAD INITIAL MODULES ###\n",
        "module load Python/3.6.6-foss-2018b\n",
        "### PIPELINE ###\n",
        "python Coverage_target.py $*\n",
        "#### Command:\n",
        "#### sbatch coverage_target.sh <coordinates_file.bed> <pileup_file.pileup> <output_file_name.csv>\n",
        "```\n",
        "\n",
        "\n",
        "\n"
      ]
    },
    {
      "cell_type": "markdown",
      "metadata": {
        "colab_type": "text",
        "id": "GsZIpQqVIZoV"
      },
      "source": [
        "The output of this script contains multiple columns in CSV format. The header of the example produced here is shown below. Each column indicates:\n",
        "\n",
        " - The target region sequence (all target regions are 50nt long)\n",
        " - The chromosome of the target region\n",
        " - The initial coordinate of that target region\n",
        " - The end coordinate of that target region\n",
        " - The mean coverage of the nucleotides in that target region\n",
        " - A list with the coverage of each nucleotide in the target region"
      ]
    },
    {
      "cell_type": "code",
      "metadata": {
        "colab_type": "code",
        "id": "4Dxql-AtIZoV",
        "colab": {
          "base_uri": "https://localhost:8080/",
          "height": 207
        },
        "outputId": "a219b21f-6d21-4199-dc39-61bb07235757"
      },
      "source": [
        "!head Cas9P_coverage_example.csv"
      ],
      "execution_count": 5,
      "outputs": [
        {
          "output_type": "stream",
          "text": [
            "gRNA,chr,start_coord,end_coord,coverage_mean,coverage_sd,coverage_hist\n",
            "ENSMUSG00000033788_gR434r,chr6,100230453,100230475,773.7272727272727,14.687804523876322,\"[751, 756, 758, 762, 762, 746, 768, 772, 776, 764, 772, 772, 783, 792, 794, 799, 773, 783, 775, 788, 781, 795]\"\n",
            "ENSMUSG00000033788_gR113f,chr6,100230784,100230806,854.9090909090909,7.295850685796498,\"[870, 872, 865, 863, 856, 853, 844, 851, 847, 859, 851, 849, 855, 853, 855, 859, 851, 852, 845, 854, 853, 851]\"\n",
            "ENSMUSG00000033788_gR70f,chr6,100230827,100230849,795.7272727272727,13.881065617739248,\"[818, 817, 811, 817, 806, 810, 809, 806, 798, 791, 797, 794, 791, 781, 780, 776, 788, 783, 781, 779, 783, 790]\"\n",
            "ENSMUSG00000023020_gR346r,chr15,100614258,100614280,866.0,19.66141980049835,\"[829, 839, 851, 849, 849, 848, 863, 860, 854, 853, 857, 854, 863, 883, 878, 877, 895, 892, 890, 887, 893, 888]\"\n",
            "ENSMUSG00000023020_gR376r,chr15,100614288,100614310,880.0,6.768273325562718,\"[886, 886, 890, 888, 887, 885, 875, 870, 879, 876, 878, 875, 874, 874, 877, 871, 870, 875, 889, 890, 882, 883]\"\n",
            "ENSMUSG00000023020_gR434r,chr15,100614346,100614368,868.6363636363636,5.653026619140402,\"[877, 876, 859, 865, 860, 865, 864, 866, 865, 870, 868, 870, 870, 863, 865, 866, 867, 878, 880, 872, 872, 872]\"\n",
            "ENSMUSG00000021177_gR34f,chr12,100701860,100701882,437.3181818181818,9.88209715373433,\"[413, 427, 425, 432, 437, 425, 433, 434, 446, 440, 442, 433, 441, 434, 435, 439, 447, 447, 444, 438, 452, 457]\"\n",
            "ENSMUSG00000021177_gR124r,chr12,100701960,100701982,546.9545454545455,9.327263022872009,\"[541, 544, 542, 547, 537, 538, 541, 535, 538, 543, 540, 543, 541, 545, 547, 554, 553, 554, 554, 566, 566, 564]\"\n",
            "ENSMUSG00000021177_gR208f,chr12,100702034,100702056,641.9090909090909,7.77608722093139,\"[622, 627, 630, 638, 638, 638, 643, 641, 641, 644, 640, 644, 648, 643, 649, 642, 645, 647, 650, 648, 649, 655]\"\n"
          ],
          "name": "stdout"
        }
      ]
    },
    {
      "cell_type": "markdown",
      "metadata": {
        "colab_type": "text",
        "id": "lqbPdOLzIZoZ"
      },
      "source": [
        "Since the script is executed once per sample, there are a total of 4 .csv files indicating the mean coverage per target region, one for each sample. Even if only the Cas9P example was shown above, the 4 files are used in the script below to represent the coverage distribution. The files used are inside the GenomicCoverage, and their names are:\n",
        "\n",
        "- GenomicCoverage/ABE_coverage_corr.csv\n",
        "- GenomicCoverage/Cas9M_coverage_corr.csv\n",
        "- GenomicCoverage/Cas9P_coverage_corr.csv\n",
        "- GenomicCoverage/CBE_coverage_corr.csv"
      ]
    },
    {
      "cell_type": "markdown",
      "metadata": {
        "colab_type": "text",
        "id": "TMv13oRtIZoc"
      },
      "source": [
        "## 3. Plot the coverage distribution for each sample"
      ]
    },
    {
      "cell_type": "markdown",
      "metadata": {
        "colab_type": "text",
        "id": "VPDe-6JwIZoc"
      },
      "source": [
        "To get an idea of the coverage in the target regions, the distribution of coverage for each target region is plotted for each sample in a density curve.\n",
        "\n",
        "For that, a simple python script is used. Here it is asapted to download the files generated by the script above from Github."
      ]
    },
    {
      "cell_type": "code",
      "metadata": {
        "colab_type": "code",
        "id": "vwD2kS5qIZod",
        "colab": {
          "base_uri": "https://localhost:8080/",
          "height": 399
        },
        "outputId": "d889b668-d256-4972-8cd2-9319227c32f8"
      },
      "source": [
        "#!/usr/bin/env/ python\n",
        "import matplotlib.pyplot as plt\n",
        "import seaborn as sns\n",
        "import numpy as np\n",
        "import pandas as pd\n",
        "\n",
        "Cas9P_coverage = pd.read_csv(\"https://raw.githubusercontent.com/marcexpositg/CRISPRed/master/01.DescriptiveAnalysis/GenomicCoverage/Cas9P_coverage_corr.csv\", header=0)\n",
        "Cas9M_coverage = pd.read_csv(\"https://raw.githubusercontent.com/marcexpositg/CRISPRed/master/01.DescriptiveAnalysis/GenomicCoverage/Cas9M_coverage_corr.csv\", header=0)\n",
        "ABE_coverage = pd.read_csv(\"https://raw.githubusercontent.com/marcexpositg/CRISPRed/master/01.DescriptiveAnalysis/GenomicCoverage/ABE_coverage_corr.csv\", header=0)\n",
        "CBE_coverage = pd.read_csv(\"https://raw.githubusercontent.com/marcexpositg/CRISPRed/master/01.DescriptiveAnalysis/GenomicCoverage/CBE_coverage_corr.csv\", header=0)\n",
        "\n",
        "print(\"Coverage Mean Cas9P: \" + str(np.nanmean(Cas9P_coverage['coverage_mean'])))\n",
        "print(\"Coverage Mean Cas9M: \" + str(np.nanmean(Cas9M_coverage['coverage_mean'])))\n",
        "print(\"Coverage Mean ABE: \" + str(np.mean(ABE_coverage['coverage_mean'])))\n",
        "print(\"Coverage Mean CBE: \" + str(np.mean(CBE_coverage['coverage_mean'])))\n",
        "\n",
        "sns.kdeplot(Cas9P_coverage['coverage_mean'].dropna(), shade=True, label=\"Cas9\")\n",
        "sns.kdeplot(Cas9M_coverage['coverage_mean'].dropna(), shade=True, label=\"CasM\")\n",
        "sns.kdeplot(ABE_coverage['coverage_mean'].dropna(), shade=True, label=\"ABE\")\n",
        "sns.kdeplot(CBE_coverage['coverage_mean'].dropna(), shade=True, label=\"CBE\")\n",
        "plt.legend(title='Sample')\n",
        "plt.title('Density Plot for target region coverage')  # add ,fontsize=\n",
        "plt.xlabel('Coverage')\n",
        "plt.ylabel('Density')\n",
        "plt.tight_layout()\n",
        "plt.savefig(\"gRNAgenomicCoverage.png\", dpi=600)\n",
        "plt.show()\n",
        "#plt.savefig('GenomicCoverage/TargetRegionsCoverage.png', dpi=300)\n",
        "# this picture was downloaded and inserted in the thesis."
      ],
      "execution_count": 6,
      "outputs": [
        {
          "output_type": "stream",
          "text": [
            "/usr/local/lib/python3.6/dist-packages/statsmodels/tools/_testing.py:19: FutureWarning: pandas.util.testing is deprecated. Use the functions in the public API at pandas.testing instead.\n",
            "  import pandas.util.testing as tm\n"
          ],
          "name": "stderr"
        },
        {
          "output_type": "stream",
          "text": [
            "Coverage Mean Cas9P: 669.3691380665445\n",
            "Coverage Mean Cas9M: 650.8541786743516\n",
            "Coverage Mean ABE: 729.4672255698187\n",
            "Coverage Mean CBE: 583.0390096934754\n"
          ],
          "name": "stdout"
        },
        {
          "output_type": "display_data",
          "data": {
            "image/png": "[encoded data removed]",
            "text/plain": [
              "<Figure size 432x288 with 1 Axes>"
            ]
          },
          "metadata": {
            "tags": [],
            "needs_background": "light"
          }
        }
      ]
    },
    {
      "cell_type": "code",
      "metadata": {
        "colab_type": "code",
        "id": "cpSMyVmmIZof",
        "colab": {}
      },
      "source": [
        "#from IPython.display import Image\n",
        "#Image('GenomicCoverage/TargetRegionsCoverage.png',height=500)"
      ],
      "execution_count": 7,
      "outputs": []
    },
    {
      "cell_type": "markdown",
      "metadata": {
        "colab_type": "text",
        "id": "t22XvaQHIZoi"
      },
      "source": [
        "**Conclusion:**\n",
        "\n",
        "The results indicate a mean of 600 reads per target region in all samples. However, there are some target regions with few reads. This coverage is not sufficient to observe gene editing, explaining the absence of edition in the experiments.\n",
        "\n",
        "## 4. Future steps\n",
        "\n",
        "See if the coverage for a target region is correlated between samples, which would indicate deficiencies in the enrichment process."
      ]
    }
  ]
}