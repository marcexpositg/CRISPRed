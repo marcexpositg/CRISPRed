{
  "nbformat": 4,
  "nbformat_minor": 0,
  "metadata": {
    "colab": {
      "name": "1.1. SequencingDataProcessing.ipynb",
      "provenance": [],
      "authorship_tag": "ABX9TyOAvJ8nGh4vreD0z2qYXnTN",
      "include_colab_link": true
    },
    "kernelspec": {
      "name": "python3",
      "display_name": "Python 3"
    }
  },
  "cells": [
    {
      "cell_type": "markdown",
      "metadata": {
        "id": "view-in-github",
        "colab_type": "text"
      },
      "source": [
        "<a href=\"https://colab.research.google.com/github/marcexpositg/CRISPRed/blob/master/01.DescriptiveAnalysis/1.1.SequencingDataProcessing.ipynb\" target=\"_parent\"><img src=\"https://colab.research.google.com/assets/colab-badge.svg\" alt=\"Open In Colab\"/></a>"
      ]
    },
    {
      "cell_type": "markdown",
      "metadata": {
        "id": "Fx-HiSf-olgg",
        "colab_type": "text"
      },
      "source": [
        "# 1.1. Sequencing data processing"
      ]
    },
    {
      "cell_type": "markdown",
      "metadata": {
        "id": "k53nDtlP5wW7",
        "colab_type": "text"
      },
      "source": [
        "This notebook contains the scripts used to prepare sequencing data (2.1. Trimming) and the script used to align the samples to the reference genome (2.2. Genomic alignment). None of them can be executed here because they were used in the remote server."
      ]
    },
    {
      "cell_type": "markdown",
      "metadata": {
        "id": "JOOo8SPhcQft",
        "colab_type": "text"
      },
      "source": [
        "## 1.1. Trimming\n",
        "\n",
        "Trimming was performed on all sequencing samples. The Trimming process uses Trimmomatic to delete the reads with low phred quality score.\n",
        "\n",
        "```\n",
        "[mexposit@mr-login Muscle-editing_library]$ cat trimming.sh\n",
        "#!/bin/bash\n",
        "\n",
        "#SBATCH --partition=normal\n",
        "#SBATCH --nodes=1\n",
        "#SBATCH --time=10:00:00\n",
        "#SBATCH --mail-type=ALL\n",
        "#SBATCH --mail-user=###\n",
        "#SBATCH --mem=60000\n",
        "\n",
        "#SBATCH -e stderr_filt_%j.err\n",
        "#SBATCH -o stdout_filt_%j.out\n",
        "\n",
        "\n",
        "### LOAD INITIAL MODULES ###\n",
        "\n",
        "module load Trimmomatic\n",
        "module load PEAR\n",
        "module load BLAT\n",
        "\n",
        "### SAVE VARIABLES ###\n",
        "prefix=$1\n",
        "\n",
        "raw=${prefix}*.fastq\n",
        "R1=(${prefix}*R1_001.fastq)\n",
        "R2=(${prefix}*R2_001.fastq)\n",
        "sample=(`ls ${R1[@]} | rev | cut -d'/' -f 1 | rev | cut -d'_' -f 1`)\n",
        "\n",
        "### PIPELINE ###\n",
        "\n",
        "if [ ! -d \"Trimmed\" ]; then\n",
        "       mkdir Trimmed\n",
        "fi\n",
        "for i in \"${!R1[@]}\"; do\n",
        "       java -jar $EBROOTTRIMMOMATIC/trimmomatic-0.36.jar PE -phred33 ${R1[$i]} ${R2[$i]} Trimmed/${sample[$i]}_R1_qfilt.fastq Trimmed/${sample[$i]}_R1_qfilt_unpaired.fastq Trimmed/${sample[$i]}_R2_qfilt.fastq Trimmed/${sample[$i]}_R2_qfilt_unpaired.fastq LEADING:3 TRAILING:3 MINLEN:36\n",
        "done\n",
        "\n",
        "```"
      ]
    },
    {
      "cell_type": "markdown",
      "metadata": {
        "id": "jJCdJK5Gb0h8",
        "colab_type": "text"
      },
      "source": [
        "## 1.2. Genomic alignment\n",
        "\n",
        "Alignment with the reference genome C3H was only performed for the shotgun sequencing samples. The script uses BWA to index the reference genome and align each sample to it (using both the R1 and R2 reads). Then, it uses SAMtools to convert the alignment into binary format and index it, so that it can be easily visualized using a genome visualizer like IGV.\n",
        "\n",
        "```\n",
        "### LOAD INITIAL MODULES ###\n",
        "module load BWA/0.7.17-foss-2016b\n",
        "module load SAMtools/1.9-HTSlib-1.8-foss-2016b\n",
        "\n",
        "### SAVE VARIABLES ###\n",
        "prefix=$1\n",
        "\n",
        "raw=${prefix}*.fastq\n",
        "R1=(${prefix}*R1_qfilt.fastq)\n",
        "R2=(${prefix}*R2_qfilt.fastq)\n",
        "sample=(`ls ${R1[@]} | rev | cut -d'/' -f 1 | rev | cut -d'_' -f 1`)\n",
        "\n",
        "### PIPELINE ###\n",
        "\n",
        "# Indexing genome and mapping reads\n",
        "bwa index GCA_001632575.1_C3H_HeJ_v1.fa\n",
        "for i in \"${!R1[@]}\"; do\n",
        "        bwa mem -M -t 16 GCA_001632575.1_C3H_HeJ_v1.fa Trimmed/${sample[$i]}_R1_qfilt.fastq Trimmed/${sample[$i]}_R2_qfilt.fastq > Alignments_C3H/${sample[$i]}_C3H_aln.sam\n",
        "        echo ${sample[$i]}_R1_qfilt.fastq\n",
        "        samtools view -Sb Alignments_C3H/${sample[$i]}_C3H_aln.sam > Alignments_C3H/${sample[$i]}_C3H_aln.bam\n",
        "        samtools sort -o Alignments_C3H/${sample[$i]}_C3H_aln.sorted.bam Alignments_C3H/${sample[$i]}_C3H_aln.bam\n",
        "        samtools index Alignments_C3H/${sample[$i]}_C3H_aln.sorted.bam\n",
        "done\n",
        "\n",
        "\n",
        "#### Command:\n",
        "#### sbatch mapping_C3H.sh Trimmed/[1-5]\n",
        "```\n",
        "\n"
      ]
    }
  ]
}