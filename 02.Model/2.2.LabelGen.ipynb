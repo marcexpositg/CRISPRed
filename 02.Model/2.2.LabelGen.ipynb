{
  "nbformat": 4,
  "nbformat_minor": 0,
  "metadata": {
    "colab": {
      "name": "2.2.LabelGen.ipynb",
      "provenance": [],
      "include_colab_link": true
    },
    "kernelspec": {
      "name": "python3",
      "display_name": "Python 3"
    }
  },
  "cells": [
    {
      "cell_type": "markdown",
      "metadata": {
        "id": "view-in-github",
        "colab_type": "text"
      },
      "source": [
        "<a href=\"https://colab.research.google.com/github/marcexpositg/CRISPRed/blob/master/02.Model/2.2.LabelGen.ipynb\" target=\"_parent\"><img src=\"https://colab.research.google.com/assets/colab-badge.svg\" alt=\"Open In Colab\"/></a>"
      ]
    },
    {
      "cell_type": "markdown",
      "metadata": {
        "id": "OdfI5ut1dQK6",
        "colab_type": "text"
      },
      "source": [
        "## 2.2. Label Generation\n",
        "\n",
        "This notebook shows the script used to get the labels for the machine learning model. Hence, it quantifies both:\n",
        "- The efficiency of each gRNA\n",
        "- The frequency of each gene editing outcome for each target region.\n",
        "\n",
        "The script starts with the simulated data. For each target region (there is one target region in each column of the simulated data), the script generates all possible outcomes in a dictionary. Then, counts the number of simulated reads that belong to each outcome.\n",
        "\n",
        "Finally, the script generates a csv file with the information of the efficiency, that relates each target region with the efficiency (defined as percentage of edited simulated reads). The information of the outcomes is stored in a data frame that contains the frequency of each outcome for each target region.\n",
        "\n",
        "Note: The multiple comments in the script are introduced because a previous version required mounting Google Drive to get access to the required files. The new version downloads the files from GitHub so that there is no need to mount Google Drive.\n",
        "\n",
        "Note2: The script takes relatively long to run when using all simulated data. Hence, only an example simulated data is analyzed. The simulated data example contains 5000 reads from 3 regions, instead of 1785 like the whole set of simulated data.\n"
      ]
    },
    {
      "cell_type": "markdown",
      "metadata": {
        "id": "KAQLn8F7e68h",
        "colab_type": "text"
      },
      "source": [
        "### 1. Import simulated data"
      ]
    },
    {
      "cell_type": "markdown",
      "metadata": {
        "id": "QEJ4FhG4fQa2",
        "colab_type": "text"
      },
      "source": [
        "Two files are required for the execution of the script:\n",
        "\n",
        "- C3H_targets_example has the original sequence without editions of the region of interest. It is required to generate all possible outcomes from the non-edited sequence.\n",
        "\n",
        "- sim_data_grna_lib_ex has 5000 reads of simulated data for 3 regions of interest.\n",
        "\n",
        "Note that this files are only imported in this section to display them. The python script also gets the file from the git repository."
      ]
    },
    {
      "cell_type": "code",
      "metadata": {
        "id": "M1nH8RP4Yob7",
        "colab_type": "code",
        "colab": {
          "base_uri": "https://localhost:8080/",
          "height": 133
        },
        "outputId": "7ba3e75a-c28a-4f9b-fa59-94015195e829"
      },
      "source": [
        "import pandas as pd\n",
        "\n",
        "NonEditedSeqs = pd.read_csv('https://raw.githubusercontent.com/marcexpositg/CRISPRed/master/02.Model/SimData/C3H_targets_example.csv', names=['target_region_id','original_sequence'])\n",
        "NonEditedSeqs"
      ],
      "execution_count": 1,
      "outputs": [
        {
          "output_type": "execute_result",
          "data": {
            "text/html": [
              "<div>\n",
              "<style scoped>\n",
              "    .dataframe tbody tr th:only-of-type {\n",
              "        vertical-align: middle;\n",
              "    }\n",
              "\n",
              "    .dataframe tbody tr th {\n",
              "        vertical-align: top;\n",
              "    }\n",
              "\n",
              "    .dataframe thead th {\n",
              "        text-align: right;\n",
              "    }\n",
              "</style>\n",
              "<table border=\"1\" class=\"dataframe\">\n",
              "  <thead>\n",
              "    <tr style=\"text-align: right;\">\n",
              "      <th></th>\n",
              "      <th>target_region_id</th>\n",
              "      <th>original_sequence</th>\n",
              "    </tr>\n",
              "  </thead>\n",
              "  <tbody>\n",
              "    <tr>\n",
              "      <th>0</th>\n",
              "      <td>ENSMUSG00000033788_gR434r</td>\n",
              "      <td>CTCCTAAAGATTGATAATGGTGACAGCTAAACTTCCCCCACTATGG...</td>\n",
              "    </tr>\n",
              "    <tr>\n",
              "      <th>1</th>\n",
              "      <td>ENSMUSG00000033788_gR113f</td>\n",
              "      <td>GGGCACCTCAGGGGAAACTGAGGCTGTGAGATAGAAGTGGCCCAAC...</td>\n",
              "    </tr>\n",
              "    <tr>\n",
              "      <th>2</th>\n",
              "      <td>ENSMUSG00000033788_gR70f</td>\n",
              "      <td>CTGACTAACGTTGAATATCGATAAGACACAGAGAAGAGGGGTGGGG...</td>\n",
              "    </tr>\n",
              "  </tbody>\n",
              "</table>\n",
              "</div>"
            ],
            "text/plain": [
              "            target_region_id                                  original_sequence\n",
              "0  ENSMUSG00000033788_gR434r  CTCCTAAAGATTGATAATGGTGACAGCTAAACTTCCCCCACTATGG...\n",
              "1  ENSMUSG00000033788_gR113f  GGGCACCTCAGGGGAAACTGAGGCTGTGAGATAGAAGTGGCCCAAC...\n",
              "2   ENSMUSG00000033788_gR70f  CTGACTAACGTTGAATATCGATAAGACACAGAGAAGAGGGGTGGGG..."
            ]
          },
          "metadata": {
            "tags": []
          },
          "execution_count": 1
        }
      ]
    },
    {
      "cell_type": "code",
      "metadata": {
        "id": "D_mcI6a3m6rE",
        "colab_type": "code",
        "colab": {
          "base_uri": "https://localhost:8080/",
          "height": 391
        },
        "outputId": "a39fe989-5baa-4154-9e9b-c353856d0e35"
      },
      "source": [
        "SimData = pd.read_csv('https://raw.githubusercontent.com/marcexpositg/CRISPRed/master/02.Model/SimData/sim_data_grna_lib_ex.csv')\n",
        "SimData"
      ],
      "execution_count": 2,
      "outputs": [
        {
          "output_type": "execute_result",
          "data": {
            "text/html": [
              "<div>\n",
              "<style scoped>\n",
              "    .dataframe tbody tr th:only-of-type {\n",
              "        vertical-align: middle;\n",
              "    }\n",
              "\n",
              "    .dataframe tbody tr th {\n",
              "        vertical-align: top;\n",
              "    }\n",
              "\n",
              "    .dataframe thead th {\n",
              "        text-align: right;\n",
              "    }\n",
              "</style>\n",
              "<table border=\"1\" class=\"dataframe\">\n",
              "  <thead>\n",
              "    <tr style=\"text-align: right;\">\n",
              "      <th></th>\n",
              "      <th>ENSMUSG00000033788_gR434r</th>\n",
              "      <th>ENSMUSG00000033788_gR113f</th>\n",
              "      <th>ENSMUSG00000033788_gR70f</th>\n",
              "    </tr>\n",
              "  </thead>\n",
              "  <tbody>\n",
              "    <tr>\n",
              "      <th>0</th>\n",
              "      <td>CTCCTAAAGATTGATAATGGTGACAGCTAAACTTCCCCCACTATGG...</td>\n",
              "      <td>GGGCACCTCAGGGGAAACTGAGGCTGTGAGATAGAAGTGGCCCAAC...</td>\n",
              "      <td>CTGACTAACGTTGAATATCGATAAGACACAGAGAAGAGGGGTGGGG...</td>\n",
              "    </tr>\n",
              "    <tr>\n",
              "      <th>1</th>\n",
              "      <td>CTCCTAAAGATTGATAATGGTGACAGCTAAACTTCCCCCACTATGG...</td>\n",
              "      <td>GGGCACCTCAGGGGAAACTGAGGCTGTGAGATAGAAGTGGCCCAAC...</td>\n",
              "      <td>CTGACTAACGTTGAATATCGATAAGACACAGAGAAGAGGGGTGGGG...</td>\n",
              "    </tr>\n",
              "    <tr>\n",
              "      <th>2</th>\n",
              "      <td>CTCCTAAAGATTGATAATGGTGACAGCTAAACTTCCCCCACTATGG...</td>\n",
              "      <td>GGGCACCTCAGGGGAAACTGAGGCTGTGAGATAGAAGTGGCCCAAC...</td>\n",
              "      <td>CTGACTAACGTTGAATATCGATAAGACACAGAGAAGAGGGGTGGGG...</td>\n",
              "    </tr>\n",
              "    <tr>\n",
              "      <th>3</th>\n",
              "      <td>CTCCTAAAGATTGATAATGGTGACAGCTAAACTTCCCCCACTATGG...</td>\n",
              "      <td>GGGCACCTCAGGGGAAACTGAGGCTGTGAGATAGAAGTGGCCCAAC...</td>\n",
              "      <td>CTGACTAACGTTGAATATCGATAAGACACAGAGAAGAGGGGTGGGG...</td>\n",
              "    </tr>\n",
              "    <tr>\n",
              "      <th>4</th>\n",
              "      <td>CTCCTAAAGATTGATAATGGTGACAGCTAAACTTCCCCCACTATGG...</td>\n",
              "      <td>GGGCACCTCAGGGGAAACTGAGGCTGTGAGATAGAAGTGGCCCAAC...</td>\n",
              "      <td>CTGACTAACGTTGAATATCGATAAGACACAGAGAAGAGGGGTGGGG...</td>\n",
              "    </tr>\n",
              "    <tr>\n",
              "      <th>...</th>\n",
              "      <td>...</td>\n",
              "      <td>...</td>\n",
              "      <td>...</td>\n",
              "    </tr>\n",
              "    <tr>\n",
              "      <th>4995</th>\n",
              "      <td>CTCCTAAAGATTGATAATGGTGACAGCTAAACTTCCCCCACTATGG...</td>\n",
              "      <td>GGGCACCTCAGGGGAAACTGAGGCTGTGAGATAGAAGTGGCCCAAC...</td>\n",
              "      <td>CTGACTAACGTTGAATATCGATAAGACACAGAGAAGAGGGGTGGGG...</td>\n",
              "    </tr>\n",
              "    <tr>\n",
              "      <th>4996</th>\n",
              "      <td>CTCCTAAAGATTGATAATGGTGACAGCTAAACTTCCCCCACTATGG...</td>\n",
              "      <td>GGGCACCTCAGGGGAAACTGAGGCTGTGAGATAGAAGTGGCCCAAC...</td>\n",
              "      <td>CTGACTAACGTTGAATATCGATAAGACACAGAGAAGAGGGGTGGGG...</td>\n",
              "    </tr>\n",
              "    <tr>\n",
              "      <th>4997</th>\n",
              "      <td>CTCCTAAAGATTGATAATGGTGACAGCTAAACTTCCCCCACTATGG...</td>\n",
              "      <td>GGGCACCTCAGGGGAAACTGAGGCTGTGAGATAGAAGTGGCCCAAC...</td>\n",
              "      <td>CTGACTAACGTTGAATATCGATAAGACACAGAGAAGAGGGGTGGGG...</td>\n",
              "    </tr>\n",
              "    <tr>\n",
              "      <th>4998</th>\n",
              "      <td>CTCCTAAAGATTGATAATGGTGACAGCTAAACTTCCCCCACTATGG...</td>\n",
              "      <td>GGGCACCTCAGGGGAAACTGAGGCTGTGAGATAGAAGTGGCCCAAC...</td>\n",
              "      <td>CTGACTAACGTTGAATATCGATAAGACACAGAGAAGAGGGGTGGGG...</td>\n",
              "    </tr>\n",
              "    <tr>\n",
              "      <th>4999</th>\n",
              "      <td>CTCCTAAAGATTGATAATGGTGACAGCTAAACTTCCCCCACTATGG...</td>\n",
              "      <td>GGGCACCTCAGGGGAAACTGAGGCTGTGAGATAGAAGTGGCCCAAC...</td>\n",
              "      <td>CTGACTAACGTTGAATATCGATAAGACACAGAGAAGAGGGGTGGGG...</td>\n",
              "    </tr>\n",
              "  </tbody>\n",
              "</table>\n",
              "<p>5000 rows × 3 columns</p>\n",
              "</div>"
            ],
            "text/plain": [
              "                              ENSMUSG00000033788_gR434r  ...                           ENSMUSG00000033788_gR70f\n",
              "0     CTCCTAAAGATTGATAATGGTGACAGCTAAACTTCCCCCACTATGG...  ...  CTGACTAACGTTGAATATCGATAAGACACAGAGAAGAGGGGTGGGG...\n",
              "1     CTCCTAAAGATTGATAATGGTGACAGCTAAACTTCCCCCACTATGG...  ...  CTGACTAACGTTGAATATCGATAAGACACAGAGAAGAGGGGTGGGG...\n",
              "2     CTCCTAAAGATTGATAATGGTGACAGCTAAACTTCCCCCACTATGG...  ...  CTGACTAACGTTGAATATCGATAAGACACAGAGAAGAGGGGTGGGG...\n",
              "3     CTCCTAAAGATTGATAATGGTGACAGCTAAACTTCCCCCACTATGG...  ...  CTGACTAACGTTGAATATCGATAAGACACAGAGAAGAGGGGTGGGG...\n",
              "4     CTCCTAAAGATTGATAATGGTGACAGCTAAACTTCCCCCACTATGG...  ...  CTGACTAACGTTGAATATCGATAAGACACAGAGAAGAGGGGTGGGG...\n",
              "...                                                 ...  ...                                                ...\n",
              "4995  CTCCTAAAGATTGATAATGGTGACAGCTAAACTTCCCCCACTATGG...  ...  CTGACTAACGTTGAATATCGATAAGACACAGAGAAGAGGGGTGGGG...\n",
              "4996  CTCCTAAAGATTGATAATGGTGACAGCTAAACTTCCCCCACTATGG...  ...  CTGACTAACGTTGAATATCGATAAGACACAGAGAAGAGGGGTGGGG...\n",
              "4997  CTCCTAAAGATTGATAATGGTGACAGCTAAACTTCCCCCACTATGG...  ...  CTGACTAACGTTGAATATCGATAAGACACAGAGAAGAGGGGTGGGG...\n",
              "4998  CTCCTAAAGATTGATAATGGTGACAGCTAAACTTCCCCCACTATGG...  ...  CTGACTAACGTTGAATATCGATAAGACACAGAGAAGAGGGGTGGGG...\n",
              "4999  CTCCTAAAGATTGATAATGGTGACAGCTAAACTTCCCCCACTATGG...  ...  CTGACTAACGTTGAATATCGATAAGACACAGAGAAGAGGGGTGGGG...\n",
              "\n",
              "[5000 rows x 3 columns]"
            ]
          },
          "metadata": {
            "tags": []
          },
          "execution_count": 2
        }
      ]
    },
    {
      "cell_type": "code",
      "metadata": {
        "id": "A9XwRBNPi_FT",
        "colab_type": "code",
        "colab": {}
      },
      "source": [
        "# Previous scripts using Google Drive:\n",
        "# previous script used to mount google drive\n",
        "#from google.colab import drive\n",
        "#drive.mount('/content/drive')\n",
        "#%cd \"drive/My Drive/CRISPred/02.Model\"\n",
        "#!cat SimData/C3H_targets_example.csv\n",
        "#!head -n 5 Labeling/sim_data_grna_lib_ex.csv"
      ],
      "execution_count": 3,
      "outputs": []
    },
    {
      "cell_type": "markdown",
      "metadata": {
        "id": "qnvOLkK-jJzB",
        "colab_type": "text"
      },
      "source": [
        "### 2. Quantify the outcomes \n",
        "\n",
        "Below is the script used to quantify the outcomes. Note that the generated file is exported as CSV, and displayed as a DataFrame just to show them. "
      ]
    },
    {
      "cell_type": "code",
      "metadata": {
        "id": "VtO7MbJIYoP7",
        "colab_type": "code",
        "colab": {}
      },
      "source": [
        "# A progress bar is helpful when analyzing 1785 regions. For 3 regions it not even shown.\n",
        "!pip install -q progress"
      ],
      "execution_count": 4,
      "outputs": []
    },
    {
      "cell_type": "code",
      "metadata": {
        "id": "RvBBxYR8Uixy",
        "colab_type": "code",
        "colab": {}
      },
      "source": [
        "from itertools import product\n",
        "import pandas as pd\n",
        "from progress.bar import Bar\n",
        "\n",
        "def deletion_outcomes(seq_outcomes, sequence, cutsite, maxdelsize, dwindow_up, dwindow_down):\n",
        "    # iterate by deletion size\n",
        "    for del_size in range(1, maxdelsize):\n",
        "\n",
        "        # changing size changes the deletion start position\n",
        "        low_del_pos = dwindow_up - del_size + 1\n",
        "\n",
        "        # generate list of deletion start sites within defined window\n",
        "        del_start_site = range(low_del_pos, dwindow_down)\n",
        "\n",
        "        # iterate by deletion start site\n",
        "        for del_pos in del_start_site:\n",
        "            # create an identifier for the deletion\n",
        "            delname_size = format(del_size, '02d')\n",
        "            delname_pos = format(del_pos, '+03d')\n",
        "            delname = 'D' + delname_size + delname_pos\n",
        "\n",
        "            # generate sequence with the deletion, both with gaps and without gaps\n",
        "            up_seq = sequence[: cutsite + del_pos]\n",
        "            down_seq = sequence[cutsite + del_pos + del_size:]\n",
        "\n",
        "            delseq_gaps = up_seq + '-' * del_size + down_seq\n",
        "            delseq_nogap = up_seq + down_seq\n",
        "\n",
        "            # save both values in a dictionary in a key with the deletion ID\n",
        "            seq_outcomes[delname] = [delseq_gaps, delseq_nogap]\n",
        "\n",
        "    # create an empty class for all sequences equal or above max_del_size\n",
        "\n",
        "    return (seq_outcomes)\n",
        "\n",
        "\n",
        "def insertion_outcomes(seq_outcomes, sequence, cutsite, maxinsize):\n",
        "    nt = 'ACGT'\n",
        "    # iterate by all insertion sizes (omit insertion size 0, which is the WT seq)\n",
        "    for ins_size in range(1, maxinsize):\n",
        "        # generate all possible insertions sequences for a given insertion size\n",
        "        insertion_list = list(map(\"\".join, product(nt, repeat=ins_size)))\n",
        "\n",
        "        # iterate by each insertion sequence\n",
        "        for insertion in insertion_list:\n",
        "            # assign a unique identifier for the insertion\n",
        "            insname_size = format(ins_size, '02d')\n",
        "            insname_type = insertion.zfill(3) #fills the insertion sequence to 3chr\n",
        "            insname = 'I' + insname_size + insname_type\n",
        "\n",
        "            # create the sequence with the insertion\n",
        "            insseq = sequence[:cutsite] + insertion + sequence[cutsite:]\n",
        "\n",
        "            # save in the dictionary\n",
        "            seq_outcomes[insname] = [insseq]\n",
        "\n",
        "    return seq_outcomes\n",
        "\n",
        "def read_target_seqs(target_seqs_file):\n",
        "    col_names = [\"gRNA_id\", \"target_seq\"]\n",
        "    target_seqs = pd.read_csv(target_seqs_file, names = col_names)\n",
        "    return target_seqs\n",
        "\n",
        "def read_mut_data(mut_file):\n",
        "    mut_seq_data = pd.read_csv(mut_file)\n",
        "    return mut_seq_data\n",
        "\n",
        "\n",
        "## Set parameters of outcomes to quantify\n",
        "cut_site = 60\n",
        "max_ins_size = 2 # only insertions below max_ins_size will be classified in independent classes\n",
        "max_del_size = 30  # only deletions below max_del_size will be classified in independent classes\n",
        "del_window_up = -3\n",
        "del_window_down = +2\n",
        "\n",
        "\n",
        "## Read target genomic regions without mutations\n",
        "# import the wild type (non mutated) reference sequences from a csv file to a pandas data frame\n",
        "# modified to get the files from GitHub\n",
        "target_seqs_file = 'https://raw.githubusercontent.com/marcexpositg/CRISPRed/master/02.Model/SimData/C3H_targets_example.csv'\n",
        "# originally:\n",
        "#target_seqs_file = 'SimData/C3H_targets_example.csv'\n",
        "target_seqs_data = read_target_seqs(target_seqs_file)\n",
        "\n",
        "## Read sequencing mutated data\n",
        "# import the simulated data sequences from a file to a list\n",
        "# modified to get the files from GitHub\n",
        "mut_file = 'https://raw.githubusercontent.com/marcexpositg/CRISPRed/master/02.Model/SimData/sim_data_grna_lib_ex.csv'\n",
        "# original:\n",
        "#mut_file = 'Labeling/sim_data_grna_lib_ex.csv'\n",
        "mut_seq_data = read_mut_data(mut_file)\n",
        "\n",
        "## Quantify outcomes for each target region\n",
        "outcome_count_all = pd.DataFrame()\n",
        "\n",
        "bar = Bar('Simulating sequences:', max=len(target_seqs_data))\n",
        "\n",
        "# For each target region (row in dataframe),\n",
        "for i in range(len(target_seqs_data)):\n",
        "    # get id and sequence\n",
        "    target_id = target_seqs_data.iloc[i]['gRNA_id']\n",
        "    target_seq = target_seqs_data.iloc[i]['target_seq']\n",
        "\n",
        "    ## generate possible outcomes for the target sequence\n",
        "    seq_outcomes = {}\n",
        "    # add wild type sequence\n",
        "    seq_outcomes['W00000'] = [target_seq]\n",
        "    # add deletions up to max_del_size\n",
        "    seq_outcomes = deletion_outcomes(seq_outcomes, target_seq, cut_site, max_del_size, del_window_up, del_window_down)\n",
        "    # add insertions up to max_ins_size\n",
        "    seq_outcomes = insertion_outcomes(seq_outcomes, target_seq, cut_site, max_ins_size)\n",
        "    # add a class to count all insertions equal or more than max_ins_size\n",
        "    eq_more_th_ins = 'I' + format(max_ins_size, '02d') + 'EMT'\n",
        "    seq_outcomes[eq_more_th_ins] = []\n",
        "    # add a class to count all deletions equal or more than max_del_size\n",
        "    eq_more_th_del = 'D' + format(max_del_size, '02d') + 'EMT'\n",
        "    seq_outcomes[eq_more_th_del] = []\n",
        "    # add a class for non planed (unidentified) outcomes\n",
        "    seq_outcomes['UNIDNT'] = []\n",
        "\n",
        "    ## Count frequency of each outcome in sequencing mutated data\n",
        "    # initialize an empty object to count each outcome\n",
        "    outcome_count = pd.Series(0, index=seq_outcomes.keys())\n",
        "    # for each mutated sequence\n",
        "    for mut_seq in mut_seq_data[target_id]:\n",
        "        found = False\n",
        "        # look if it is any of the defined outcomes\n",
        "        for indel_id, indel_seq in seq_outcomes.items():\n",
        "            if mut_seq in indel_seq:\n",
        "                outcome_count[indel_id] += 1\n",
        "                #outcome_count['W00000'] += 1\n",
        "                found = True\n",
        "        # if it does not\n",
        "        if found == False:\n",
        "            # if it has more gaps than the maximum, belongs to the equal or more than max_del_size\n",
        "            if mut_seq.count('-') >= max_del_size:\n",
        "                outcome_count[eq_more_th_del] += 1\n",
        "            # if it is longer than sequence + max_ins_size then group into a category\n",
        "            elif len(mut_seq) >= len(target_seq) + max_ins_size:\n",
        "                outcome_count[eq_more_th_ins] += 1\n",
        "            # if is not any of that options, go to an unidentified class\n",
        "            else:\n",
        "                outcome_count['UNIDNT'] += 1\n",
        "    outcome_count_all[target_id] = outcome_count\n",
        "    # print(outcome_count.sum())\n",
        "    # print(outcome_count)\n",
        "    # print(outcome_count_all)\n",
        "    bar.next()\n",
        "\n",
        "bar.finish()\n",
        "## Calculate % of edited sequences\n",
        "wt_counts = outcome_count_all.loc['W00000']\n",
        "mut_counts = outcome_count_all.iloc[1:-1] #exclude last row with unidentified mutations\n",
        "mut_counts_sum = mut_counts.sum()\n",
        "\n",
        "edit_effcy = mut_counts_sum / (wt_counts + mut_counts_sum)\n",
        "\n",
        "## Calculate frequency of each outcome\n",
        "# normalize mut_counts to get the frequency\n",
        "mut_freq = mut_counts / mut_counts_sum\n",
        "\n",
        "## Export results\n",
        "# normally they are exported into a folder:\n",
        "#edit_effcy.to_csv('Labeling/editing_efficiency_sim_ex.csv', header=None)\n",
        "#mut_freq.to_csv('Labeling/outcomes_frequency_sim_ex.csv')\n",
        "\n",
        "# in case you want to check them, you can download them from the Files in this session.\n",
        "edit_effcy.to_csv('editing_efficiency_sim_ex.csv', header=None)\n",
        "mut_freq.to_csv('outcomes_frequency_sim_ex.csv')\n"
      ],
      "execution_count": 5,
      "outputs": []
    },
    {
      "cell_type": "markdown",
      "metadata": {
        "id": "bJyMDyRAkqeJ",
        "colab_type": "text"
      },
      "source": [
        "### 3. Get the results\n",
        "\n",
        "The results generated are shown below."
      ]
    },
    {
      "cell_type": "code",
      "metadata": {
        "id": "UpwyzW_zk1ZX",
        "colab_type": "code",
        "colab": {}
      },
      "source": [
        "# to check the CSV files produced, run:\n",
        "#!cat 'editing_efficiency_sim_ex.csv'\n",
        "#!cat 'outcomes_frequency_sim_ex.csv'"
      ],
      "execution_count": 6,
      "outputs": []
    },
    {
      "cell_type": "code",
      "metadata": {
        "id": "jFoLbhIQnQNX",
        "colab_type": "code",
        "colab": {
          "base_uri": "https://localhost:8080/",
          "height": 82
        },
        "outputId": "b6e04cba-eb3f-4586-92d7-37560e105f5c"
      },
      "source": [
        "# The presentation looks better when visualizing them directly as generated in the script above\n",
        "# This file has the efficiency determined for each target region, used in 2.5.EffModel\n",
        "edit_effcy"
      ],
      "execution_count": 7,
      "outputs": [
        {
          "output_type": "execute_result",
          "data": {
            "text/plain": [
              "ENSMUSG00000033788_gR434r    0.01\n",
              "ENSMUSG00000033788_gR113f    0.03\n",
              "ENSMUSG00000033788_gR70f     0.30\n",
              "dtype: float64"
            ]
          },
          "metadata": {
            "tags": []
          },
          "execution_count": 7
        }
      ]
    },
    {
      "cell_type": "code",
      "metadata": {
        "id": "qcbNfh_InXVU",
        "colab_type": "code",
        "colab": {
          "base_uri": "https://localhost:8080/",
          "height": 391
        },
        "outputId": "fbe7569b-f033-4ff2-9cde-2217c56f7eb8"
      },
      "source": [
        "# This file contains the generated outcomes, used in 2.3.OutcomesProfiling.ipynb to generate the labels for the results prediction model\n",
        "mut_freq"
      ],
      "execution_count": 8,
      "outputs": [
        {
          "output_type": "execute_result",
          "data": {
            "text/html": [
              "<div>\n",
              "<style scoped>\n",
              "    .dataframe tbody tr th:only-of-type {\n",
              "        vertical-align: middle;\n",
              "    }\n",
              "\n",
              "    .dataframe tbody tr th {\n",
              "        vertical-align: top;\n",
              "    }\n",
              "\n",
              "    .dataframe thead th {\n",
              "        text-align: right;\n",
              "    }\n",
              "</style>\n",
              "<table border=\"1\" class=\"dataframe\">\n",
              "  <thead>\n",
              "    <tr style=\"text-align: right;\">\n",
              "      <th></th>\n",
              "      <th>ENSMUSG00000033788_gR434r</th>\n",
              "      <th>ENSMUSG00000033788_gR113f</th>\n",
              "      <th>ENSMUSG00000033788_gR70f</th>\n",
              "    </tr>\n",
              "  </thead>\n",
              "  <tbody>\n",
              "    <tr>\n",
              "      <th>D01-03</th>\n",
              "      <td>0.0</td>\n",
              "      <td>0.000000</td>\n",
              "      <td>0.000000</td>\n",
              "    </tr>\n",
              "    <tr>\n",
              "      <th>D01-02</th>\n",
              "      <td>0.0</td>\n",
              "      <td>0.000000</td>\n",
              "      <td>0.000000</td>\n",
              "    </tr>\n",
              "    <tr>\n",
              "      <th>D01-01</th>\n",
              "      <td>0.0</td>\n",
              "      <td>0.046667</td>\n",
              "      <td>0.038667</td>\n",
              "    </tr>\n",
              "    <tr>\n",
              "      <th>D01+00</th>\n",
              "      <td>0.0</td>\n",
              "      <td>0.033333</td>\n",
              "      <td>0.036000</td>\n",
              "    </tr>\n",
              "    <tr>\n",
              "      <th>D01+01</th>\n",
              "      <td>0.0</td>\n",
              "      <td>0.000000</td>\n",
              "      <td>0.000000</td>\n",
              "    </tr>\n",
              "    <tr>\n",
              "      <th>...</th>\n",
              "      <td>...</td>\n",
              "      <td>...</td>\n",
              "      <td>...</td>\n",
              "    </tr>\n",
              "    <tr>\n",
              "      <th>I0100C</th>\n",
              "      <td>0.0</td>\n",
              "      <td>0.006667</td>\n",
              "      <td>0.014667</td>\n",
              "    </tr>\n",
              "    <tr>\n",
              "      <th>I0100G</th>\n",
              "      <td>0.0</td>\n",
              "      <td>0.006667</td>\n",
              "      <td>0.008000</td>\n",
              "    </tr>\n",
              "    <tr>\n",
              "      <th>I0100T</th>\n",
              "      <td>0.0</td>\n",
              "      <td>0.006667</td>\n",
              "      <td>0.011333</td>\n",
              "    </tr>\n",
              "    <tr>\n",
              "      <th>I02EMT</th>\n",
              "      <td>0.0</td>\n",
              "      <td>0.000000</td>\n",
              "      <td>0.000000</td>\n",
              "    </tr>\n",
              "    <tr>\n",
              "      <th>D30EMT</th>\n",
              "      <td>0.0</td>\n",
              "      <td>0.000000</td>\n",
              "      <td>0.005333</td>\n",
              "    </tr>\n",
              "  </tbody>\n",
              "</table>\n",
              "<p>557 rows × 3 columns</p>\n",
              "</div>"
            ],
            "text/plain": [
              "        ENSMUSG00000033788_gR434r  ...  ENSMUSG00000033788_gR70f\n",
              "D01-03                        0.0  ...                  0.000000\n",
              "D01-02                        0.0  ...                  0.000000\n",
              "D01-01                        0.0  ...                  0.038667\n",
              "D01+00                        0.0  ...                  0.036000\n",
              "D01+01                        0.0  ...                  0.000000\n",
              "...                           ...  ...                       ...\n",
              "I0100C                        0.0  ...                  0.014667\n",
              "I0100G                        0.0  ...                  0.008000\n",
              "I0100T                        0.0  ...                  0.011333\n",
              "I02EMT                        0.0  ...                  0.000000\n",
              "D30EMT                        0.0  ...                  0.005333\n",
              "\n",
              "[557 rows x 3 columns]"
            ]
          },
          "metadata": {
            "tags": []
          },
          "execution_count": 8
        }
      ]
    }
  ]
}