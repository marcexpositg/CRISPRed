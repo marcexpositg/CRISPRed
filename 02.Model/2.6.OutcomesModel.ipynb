{
  "nbformat": 4,
  "nbformat_minor": 0,
  "metadata": {
    "colab": {
      "name": "2.6.OutcomesModel.ipynb",
      "provenance": [],
      "collapsed_sections": [],
      "toc_visible": true,
      "authorship_tag": "ABX9TyOpxHQCIQ+BJr0ayA0bIY5O",
      "include_colab_link": true
    },
    "kernelspec": {
      "name": "python3",
      "display_name": "Python 3"
    }
  },
  "cells": [
    {
      "cell_type": "markdown",
      "metadata": {
        "id": "view-in-github",
        "colab_type": "text"
      },
      "source": [
        "<a href=\"https://colab.research.google.com/github/marcexpositg/CRISPRed/blob/master/02.Model/2.6.OutcomesModel.ipynb\" target=\"_parent\"><img src=\"https://colab.research.google.com/assets/colab-badge.svg\" alt=\"Open In Colab\"/></a>"
      ]
    },
    {
      "cell_type": "markdown",
      "metadata": {
        "id": "evcoHOqTz9W4",
        "colab_type": "text"
      },
      "source": [
        "# 2.6. Outcomes prediction\n",
        "\n",
        "The outcome prediction problem was simplified to 8 different categories (7 deletion sizes + 1 insertion of any type). For more details on this simplification, see notebook 2.3. OutcomesProfiling. All groups are in similar proportion in the data set. These are the 8 groups representing all possible outcomes:\n",
        "\n",
        "- LessEq_2bp\n",
        "- 3bp_4bp\n",
        "- 5bp_6bp\n",
        "- 7bp_8bp\n",
        "- 9bp_11bp\n",
        "- 12bp_14bp\n",
        "- More_15bp\n",
        "- Insertion\n",
        "\n",
        "The initial objective was predicting the frequency of each of these outcomes depending on the gRNA sequence. However, multiclass classification with soft labels requires a complex implementation. Hence, the problem is simplified and tackled by planning two different approaches:\n",
        "\n",
        "- Approach 1: Predict the major outcome.\n",
        "- Approach 2: Predict the most frequent outcomes.\n",
        "\n",
        "Approach 1 simplifies the problem by turning it into a multiclass classification problem. While in the original problem multiple classes were possible at different probabilities for the a single sample, in approach 1 each sample has one and only one label (the most frequent outcome) from the 8 possible outcomes, which have been turned into mutually exclusive by predicting \"the most frequent one\".\n",
        "\n",
        "Approach 2 gets closer to reality, but simplifies the problem by turning it into a multilabel classification problem. While in the original problem *all* classes are possible at different probabilities, in approach 2 each sample can have multiple labels from the 8 possible, but probabilities are not computed. For that, the outcome probabilities were converted to binary values, so that they are either (present/majoritary or absent/minoritary).\n",
        "\n",
        "Approach 2 is closer to reality than approach 1 because approach 2 predicts more than one outcome if the probabilities of getting diverse outcomes are high. However, it does not predict the majoritary outcome. Instead, approach 1 only predicts the majoritary outcome but does not provide information on the outcome variability (will one outcome dominate over the others? or will we get a mixed population?). Both of the parameters (diversity and the majoritary) are of interest, so probably both approaches could be combined.\n",
        "\n",
        "Differences between multiclass and multilabel classification (from [sklearn docs](https://scikit-learn.org/stable/modules/multiclass.html):\n",
        "- Multiclass classification:\n",
        "  - Targets (labels): 1\n",
        "  - Target cardinality (possible labels): >1\n",
        "- Multilabel classification:\n",
        "  - Targets (labels): >1\n",
        "  - Target cardinality (possible labels): 2 (0 or 1)\n",
        "\n",
        "How are these used into the model?\n",
        "\n",
        "- To predict the majoritary outcome, we use multiclass classification because we want to predict a single label from more than 1 possible mutually exclusive labels (in total, there are 8 different classes of outcomes and we want to predict just 1, the most frequent).\n",
        "\n",
        "- To predict diverse outcomes, we use multilabel classification because we want to predict the presence or absence (possible labels=2 (0 or 1)) of multiple labels (8 different classes of outcomes).\n",
        "\n",
        "**Note:** The script takes very long to execute (>5 mins) because of the optimization in all of the models and the need to predict 8 different classes for each model.\n",
        "\n",
        "**Summary:**\n",
        "- Approach 1. One-vs.-rest binary classifiers for each class using:\n",
        "  - Linear regression\n",
        "  - SVM\n",
        "- Approach 2. Multilabel classifiers using Random Forest\n",
        "\n",
        "**Results:**\n",
        "\n",
        "All predictors have poor performance and very low predictive value. The causes probably are:\n",
        "\n",
        "- Grouping so diverse outcomes in just 8 classes breaks the relation between the outcomes and the target sequences.\n",
        "- Microhomology accounts for most of the deletions, so microhomology features should be added to the model.\n",
        "\n",
        "To avoid simplifying the problem, soft labels could be predicted using multiclass regression, and ajusting both the input data and the output predictions with a sigmoid function so that the outcomes probabilities are between 0 and 1 and when summed they are up to 1. See the following webistes: [1](https://stackoverflow.com/questions/42800769/scikit-learn-classification-on-soft-labels),[2](https://stats.stackexchange.com/questions/231981/how-do-i-make-use-of-soft-labels-in-binary-classification),[3](https://stackoverflow.com/questions/42800769/scikit-learn-classification-on-soft-labels),[4](https://www.quora.com/How-do-I-make-use-of-%E2%80%9Csoft%E2%80%9D-labels-in-binary-classification),[5](https://www.researchgate.net/post/How_to_train_a_classifier_using_probability_class_labeled_data_in_machine_learning),[6](https://datascience.stackexchange.com/questions/48111/multilabel-classifcation-in-sklearn-with-soft-fuzzy-labels),[7](https://books.google.es/books?id=GtCBDwAAQBAJ&pg=PA64&lpg=PA64&dq=logistic+regression+%22soft+labels%22+sklearn&source=bl&ots=OCk38s7wOv&sig=ACfU3U15sGufhxdjK6fJ_OyxKbOsQuhCcw&hl=en&sa=X&ved=2ahUKEwjD4ta8uJbqAhX76OAKHRb_CCcQ6AEwB3oECAgQAQ#v=onepage&q=logistic%20regression%20%22soft%20labels%22%20sklearn&f=false), [8](https://books.google.es/books?id=M0vODwAAQBAJ&pg=PA107&lpg=PA107&dq=logistic+regression+%22soft+labels%22+sklearn&source=bl&ots=mI2dmgKWTN&sig=ACfU3U0IZgFtOtLBb_hBsHilOAmGeFLXoA&hl=en&sa=X&ved=2ahUKEwjD4ta8uJbqAhX76OAKHRb_CCcQ6AEwBnoECAkQAQ#v=onepage&q=logistic%20regression%20%22soft%20labels%22%20sklearn&f=false)."
      ]
    },
    {
      "cell_type": "markdown",
      "metadata": {
        "id": "SsY-1SA231Vs",
        "colab_type": "text"
      },
      "source": [
        "## 1. Approach 1: Major class"
      ]
    },
    {
      "cell_type": "markdown",
      "metadata": {
        "id": "YscbnwR8366p",
        "colab_type": "text"
      },
      "source": [
        "### 1.1. Logistic Regression"
      ]
    },
    {
      "cell_type": "code",
      "metadata": {
        "id": "ibHnqOqsaeW8",
        "colab_type": "code",
        "colab": {
          "base_uri": "https://localhost:8080/",
          "height": 277
        },
        "outputId": "44632e83-c099-4bce-8d3e-67eb4a04881a"
      },
      "source": [
        "import numpy as np\n",
        "import pandas as pd\n",
        "import matplotlib.pyplot as plt\n",
        "import seaborn as sns\n",
        "outcomes_cl = pd.read_csv(\"https://raw.githubusercontent.com/marcexpositg/CRISPRed/master/02.Model/Labels/outcomes_freq_simp.csv\")\n",
        "outcomes_cl.rename(columns={'Unnamed: 0':'ids'}, inplace=True)\n",
        "print(outcomes_cl)"
      ],
      "execution_count": 1,
      "outputs": [
        {
          "output_type": "stream",
          "text": [
            "/usr/local/lib/python3.6/dist-packages/statsmodels/tools/_testing.py:19: FutureWarning: pandas.util.testing is deprecated. Use the functions in the public API at pandas.testing instead.\n",
            "  import pandas.util.testing as tm\n"
          ],
          "name": "stderr"
        },
        {
          "output_type": "stream",
          "text": [
            "                            ids  LessEq_2bp  ...  Insertion    MaxClass\n",
            "0     ENSMUSG00000033788_gR434r    0.080000  ...   0.240000   Insertion\n",
            "1     ENSMUSG00000033788_gR113f    0.086667  ...   0.053333    9bp_11bp\n",
            "2      ENSMUSG00000033788_gR70f    0.127333  ...   0.142000    9bp_11bp\n",
            "3     ENSMUSG00000023020_gR346r    0.146923  ...   0.070769     3bp_4bp\n",
            "4     ENSMUSG00000023020_gR376r    0.158889  ...   0.031111    9bp_11bp\n",
            "...                         ...         ...  ...        ...         ...\n",
            "1717  ENSMUSG00000025791_gR257r    0.349796  ...   0.114694  LessEq_2bp\n",
            "1718  ENSMUSG00000025791_gR494f    0.094627  ...   0.050746     5bp_6bp\n",
            "1719  ENSMUSG00000023484_gR261f    0.156923  ...   0.118462     3bp_4bp\n",
            "1720  ENSMUSG00000023484_gR270f    0.065000  ...   0.035000    9bp_11bp\n",
            "1721  ENSMUSG00000023484_gR479f    0.111111  ...   0.048444     5bp_6bp\n",
            "\n",
            "[1722 rows x 10 columns]\n"
          ],
          "name": "stdout"
        }
      ]
    },
    {
      "cell_type": "code",
      "metadata": {
        "id": "luWR7SQCMfKM",
        "colab_type": "code",
        "colab": {
          "base_uri": "https://localhost:8080/",
          "height": 245
        },
        "outputId": "12ee77d1-8709-4a14-b53e-6a87e0384aa1"
      },
      "source": [
        "outcomes_cl['MaxClass'] = outcomes_cl['MaxClass'].astype('category')\n",
        "outcomes_cl['MaxClass'].cat.reorder_categories(['LessEq_2bp','3bp_4bp','5bp_6bp',\n",
        "                                                '7bp_8bp','9bp_11bp','12bp_14bp',\n",
        "                                                'More_15bp','Insertion'],\n",
        "                                                inplace=True)\n",
        "outcomes_names = outcomes_cl['MaxClass'].cat.categories\n",
        "print(outcomes_cl['MaxClass'])"
      ],
      "execution_count": 2,
      "outputs": [
        {
          "output_type": "stream",
          "text": [
            "0        Insertion\n",
            "1         9bp_11bp\n",
            "2         9bp_11bp\n",
            "3          3bp_4bp\n",
            "4         9bp_11bp\n",
            "           ...    \n",
            "1717    LessEq_2bp\n",
            "1718       5bp_6bp\n",
            "1719       3bp_4bp\n",
            "1720      9bp_11bp\n",
            "1721       5bp_6bp\n",
            "Name: MaxClass, Length: 1722, dtype: category\n",
            "Categories (8, object): [LessEq_2bp, 3bp_4bp, 5bp_6bp, 7bp_8bp, 9bp_11bp, 12bp_14bp, More_15bp,\n",
            "                         Insertion]\n"
          ],
          "name": "stdout"
        }
      ]
    },
    {
      "cell_type": "code",
      "metadata": {
        "id": "uBPNs0Q5L0a9",
        "colab_type": "code",
        "colab": {
          "base_uri": "https://localhost:8080/",
          "height": 245
        },
        "outputId": "577a4dd4-14c3-4811-a437-cd2d2c079f1f"
      },
      "source": [
        "features = pd.read_csv(\"https://raw.githubusercontent.com/marcexpositg/CRISPRed/master/02.Model/Featurization/gRNA_features.csv\", header=0)\n",
        "print(features)"
      ],
      "execution_count": 3,
      "outputs": [
        {
          "output_type": "stream",
          "text": [
            "                            ids   A0   C0   G0   T0  ...   A  C   G  T  GC_content\n",
            "0     ENSMUSG00000033788_gR434r  0.0  0.0  0.0  1.0  ...   5  0  13  2        65.0\n",
            "1     ENSMUSG00000033788_gR113f  1.0  0.0  0.0  0.0  ...   4  6   5  5        55.0\n",
            "2      ENSMUSG00000033788_gR70f  0.0  0.0  1.0  0.0  ...   5  5   8  2        65.0\n",
            "3     ENSMUSG00000023020_gR346r  1.0  0.0  0.0  0.0  ...  10  4   2  4        30.0\n",
            "4     ENSMUSG00000023020_gR376r  0.0  0.0  0.0  1.0  ...   4  5   5  6        50.0\n",
            "...                         ...  ...  ...  ...  ...  ...  .. ..  .. ..         ...\n",
            "1717  ENSMUSG00000025791_gR257r  0.0  0.0  1.0  0.0  ...   7  2   5  6        35.0\n",
            "1718  ENSMUSG00000025791_gR494f  0.0  0.0  1.0  0.0  ...   8  5   5  2        50.0\n",
            "1719  ENSMUSG00000023484_gR261f  1.0  0.0  0.0  0.0  ...  10  5   5  0        50.0\n",
            "1720  ENSMUSG00000023484_gR270f  1.0  0.0  0.0  0.0  ...   6  5   8  1        65.0\n",
            "1721  ENSMUSG00000023484_gR479f  1.0  0.0  0.0  0.0  ...   4  6   6  4        60.0\n",
            "\n",
            "[1722 rows x 390 columns]\n"
          ],
          "name": "stdout"
        }
      ]
    },
    {
      "cell_type": "code",
      "metadata": {
        "id": "4QpRKamjMpfN",
        "colab_type": "code",
        "colab": {}
      },
      "source": [
        "# stratify to have same proportion of outcomes in test and training sets\n",
        "from sklearn.model_selection import train_test_split\n",
        "X_train, X_test, y_train, y_test = train_test_split(\n",
        "    features.drop([\"ids\"],axis=1),outcomes_cl['MaxClass'], random_state=0, \n",
        "    stratify=outcomes_cl['MaxClass'])"
      ],
      "execution_count": 4,
      "outputs": []
    },
    {
      "cell_type": "code",
      "metadata": {
        "id": "Hy7lqPazM684",
        "colab_type": "code",
        "colab": {
          "base_uri": "https://localhost:8080/",
          "height": 82
        },
        "outputId": "77e9969c-d74d-487a-ba26-133f82862dbf"
      },
      "source": [
        "# only the majoritary outcome per each sample is predicted\n",
        "print(\"Training set features:   \" + str(X_train.shape) + \"(Samples,features)\")\n",
        "print(\"Test set features:       \" + str(X_test.shape) +  \" (Samples,features)\")\n",
        "print(\"Training set outcomes:   \" + str(y_train.shape) + \"    (Samples,labels)\")\n",
        "print(\"Test set outcomes:       \" + str(y_test.shape) +  \"     (Samples,labels)\")"
      ],
      "execution_count": 5,
      "outputs": [
        {
          "output_type": "stream",
          "text": [
            "Training set features:   (1291, 389)(Samples,features)\n",
            "Test set features:       (431, 389) (Samples,features)\n",
            "Training set outcomes:   (1291,)    (Samples,labels)\n",
            "Test set outcomes:       (431,)     (Samples,labels)\n"
          ],
          "name": "stdout"
        }
      ]
    },
    {
      "cell_type": "code",
      "metadata": {
        "id": "pQGG5GbYPe5m",
        "colab_type": "code",
        "colab": {}
      },
      "source": [
        "from sklearn.model_selection import GridSearchCV\n",
        "from sklearn.linear_model import LogisticRegression\n",
        "\n",
        "parameters = {\n",
        "    'C'             : [0.001,0.01,0.1,1,10,100],\n",
        "    'penalty'       : [\"l1\",\"l2\"], \n",
        "    'solver'        : ['liblinear'],\n",
        "    'multi_class'   : ['ovr'] #one vs rest specification\n",
        "}\n",
        "\n",
        "lr_cl = GridSearchCV(LogisticRegression(), parameters, cv=5,\n",
        "                     scoring=\"accuracy\", n_jobs=-1)"
      ],
      "execution_count": 6,
      "outputs": []
    },
    {
      "cell_type": "code",
      "metadata": {
        "id": "5OvYHxMIPihP",
        "colab_type": "code",
        "colab": {
          "base_uri": "https://localhost:8080/",
          "height": 261
        },
        "outputId": "d6c2f6f4-9170-4c6c-f045-d8bbd3200b47"
      },
      "source": [
        "lr_cl.fit(X_train, y_train)"
      ],
      "execution_count": 7,
      "outputs": [
        {
          "output_type": "execute_result",
          "data": {
            "text/plain": [
              "GridSearchCV(cv=5, error_score=nan,\n",
              "             estimator=LogisticRegression(C=1.0, class_weight=None, dual=False,\n",
              "                                          fit_intercept=True,\n",
              "                                          intercept_scaling=1, l1_ratio=None,\n",
              "                                          max_iter=100, multi_class='auto',\n",
              "                                          n_jobs=None, penalty='l2',\n",
              "                                          random_state=None, solver='lbfgs',\n",
              "                                          tol=0.0001, verbose=0,\n",
              "                                          warm_start=False),\n",
              "             iid='deprecated', n_jobs=-1,\n",
              "             param_grid={'C': [0.001, 0.01, 0.1, 1, 10, 100],\n",
              "                         'multi_class': ['ovr'], 'penalty': ['l1', 'l2'],\n",
              "                         'solver': ['liblinear']},\n",
              "             pre_dispatch='2*n_jobs', refit=True, return_train_score=False,\n",
              "             scoring='accuracy', verbose=0)"
            ]
          },
          "metadata": {
            "tags": []
          },
          "execution_count": 7
        }
      ]
    },
    {
      "cell_type": "code",
      "metadata": {
        "id": "KBn-aI9JP9LG",
        "colab_type": "code",
        "colab": {
          "base_uri": "https://localhost:8080/",
          "height": 33
        },
        "outputId": "f63d1340-74a9-4af4-dd7c-791e9d62f37a"
      },
      "source": [
        "print(\"Best parameters: {}\".format(lr_cl.best_params_))"
      ],
      "execution_count": 8,
      "outputs": [
        {
          "output_type": "stream",
          "text": [
            "Best parameters: {'C': 0.1, 'multi_class': 'ovr', 'penalty': 'l1', 'solver': 'liblinear'}\n"
          ],
          "name": "stdout"
        }
      ]
    },
    {
      "cell_type": "code",
      "metadata": {
        "id": "03Pb14RVdyjq",
        "colab_type": "code",
        "colab": {
          "base_uri": "https://localhost:8080/",
          "height": 50
        },
        "outputId": "6e87f073-6bdc-4289-8b03-61f42204090f"
      },
      "source": [
        "lr_cl.classes_"
      ],
      "execution_count": 9,
      "outputs": [
        {
          "output_type": "execute_result",
          "data": {
            "text/plain": [
              "array(['12bp_14bp', '3bp_4bp', '5bp_6bp', '7bp_8bp', '9bp_11bp',\n",
              "       'Insertion', 'LessEq_2bp', 'More_15bp'], dtype=object)"
            ]
          },
          "metadata": {
            "tags": []
          },
          "execution_count": 9
        }
      ]
    },
    {
      "cell_type": "code",
      "metadata": {
        "id": "k8Lq5ZhoQqEa",
        "colab_type": "code",
        "colab": {
          "base_uri": "https://localhost:8080/",
          "height": 228
        },
        "outputId": "bb3a284f-096f-4f45-81ec-09bfbd13c588"
      },
      "source": [
        "# show the first few entries of predict_proba\n",
        "# it has 8 columns with the probability of each class, \n",
        "# are this similar to the probabilities specified before getting the maximum?\n",
        "print(\"Predicted probabilities:\\n{}\".format(lr_cl.predict_proba(X_test)[:6]))"
      ],
      "execution_count": 10,
      "outputs": [
        {
          "output_type": "stream",
          "text": [
            "Predicted probabilities:\n",
            "[[0.04524233 0.28445988 0.11379511 0.07018823 0.0918116  0.0300356\n",
            "  0.3260012  0.03846607]\n",
            " [0.06079511 0.19268945 0.09995318 0.07666477 0.08159745 0.04811503\n",
            "  0.34417423 0.09601079]\n",
            " [0.02031074 0.20035605 0.08682267 0.07034237 0.22630356 0.02470122\n",
            "  0.31558636 0.05557703]\n",
            " [0.02621125 0.17844636 0.16582716 0.06338777 0.1971436  0.03599917\n",
            "  0.29502229 0.03796239]\n",
            " [0.02551285 0.25153947 0.10285203 0.24360784 0.07699297 0.02813432\n",
            "  0.22623726 0.04512326]\n",
            " [0.03400651 0.21605498 0.10752636 0.06870837 0.08438115 0.03967083\n",
            "  0.41782045 0.03183135]]\n"
          ],
          "name": "stdout"
        }
      ]
    },
    {
      "cell_type": "code",
      "metadata": {
        "id": "MqCNfXZqRO5-",
        "colab_type": "code",
        "colab": {
          "base_uri": "https://localhost:8080/",
          "height": 66
        },
        "outputId": "b71b030a-ddab-4dde-ea4c-154c4a84d0e1"
      },
      "source": [
        "# We can get the majoritary outcome taking the argmax\n",
        "#print(\"Argmax of predicted probabilities:\\n{}\".format(np.argmax(lr_cl.predict_proba(X_test), axis=1)))\n",
        "lr_pred = lr_cl.predict(X_test)\n",
        "print(\"Predictions for first 10 test samples:\\n{}\".format(lr_pred[1:10]))"
      ],
      "execution_count": 11,
      "outputs": [
        {
          "output_type": "stream",
          "text": [
            "Predictions for first 10 test samples:\n",
            "['LessEq_2bp' 'LessEq_2bp' 'LessEq_2bp' '3bp_4bp' 'LessEq_2bp' '7bp_8bp'\n",
            " '5bp_6bp' '5bp_6bp' '5bp_6bp']\n"
          ],
          "name": "stdout"
        }
      ]
    },
    {
      "cell_type": "code",
      "metadata": {
        "id": "tROU_XyxR_Ok",
        "colab_type": "code",
        "colab": {
          "base_uri": "https://localhost:8080/",
          "height": 180
        },
        "outputId": "edff611f-93ba-456b-9a45-d3e6d6a69509"
      },
      "source": [
        "from sklearn.metrics import confusion_matrix\n",
        "from sklearn.metrics import accuracy_score\n",
        "lr_confMat = confusion_matrix(y_test, lr_pred)\n",
        "print(\"Accuracy: {:.3f}\".format(accuracy_score(y_test, lr_pred)))\n",
        "print(\"Confusion matrix:\\n{}\".format(lr_confMat))"
      ],
      "execution_count": 12,
      "outputs": [
        {
          "output_type": "stream",
          "text": [
            "Accuracy: 0.334\n",
            "Confusion matrix:\n",
            "[[ 0  0  5  1  3  0 10  0]\n",
            " [ 0  4 12 10  8  0 45  0]\n",
            " [ 0  3 23  7  7  0 28  0]\n",
            " [ 0  1  8 28  4  0 19  0]\n",
            " [ 0  5  4  7 26  0 24  0]\n",
            " [ 0  1  0  0  2  0 11  0]\n",
            " [ 0  6 11 11  8  0 63  0]\n",
            " [ 0  5  2  5  2  0 12  0]]\n"
          ],
          "name": "stdout"
        }
      ]
    },
    {
      "cell_type": "code",
      "metadata": {
        "id": "6w-1rb2nS3lY",
        "colab_type": "code",
        "colab": {
          "base_uri": "https://localhost:8080/",
          "height": 297
        },
        "outputId": "02fa2d10-16a7-4b21-cfa1-84394e781fb9"
      },
      "source": [
        "df_cm = pd.DataFrame(lr_confMat, index = lr_cl.classes_,columns = lr_cl.classes_)\n",
        "sns.heatmap(df_cm, annot=True, cmap=\"YlGnBu\")\n",
        "plt.xlabel(\"Predicted\")\n",
        "plt.ylabel(\"True\")\n",
        "plt.tight_layout()\n",
        "plt.savefig(\"Approach1_LR.png\", dpi=600)\n",
        "plt.show()"
      ],
      "execution_count": 13,
      "outputs": [
        {
          "output_type": "display_data",
          "data": {
            "image/png": "[encoded data removed]",
            "text/plain": [
              "<Figure size 432x288 with 2 Axes>"
            ]
          },
          "metadata": {
            "tags": [],
            "needs_background": "light"
          }
        }
      ]
    },
    {
      "cell_type": "code",
      "metadata": {
        "id": "He4uRC0Jr5AC",
        "colab_type": "code",
        "colab": {
          "base_uri": "https://localhost:8080/",
          "height": 33
        },
        "outputId": "2082c749-b4df-4191-b683-24b63ef84a4d"
      },
      "source": [
        "print(lr_cl.score(X_test,y_test))"
      ],
      "execution_count": 14,
      "outputs": [
        {
          "output_type": "stream",
          "text": [
            "0.33410672853828305\n"
          ],
          "name": "stdout"
        }
      ]
    },
    {
      "cell_type": "code",
      "metadata": {
        "id": "jwbCbloCbo3s",
        "colab_type": "code",
        "colab": {
          "base_uri": "https://localhost:8080/",
          "height": 313
        },
        "outputId": "b05bc534-841e-4217-906e-8f031afb47dc"
      },
      "source": [
        "from sklearn.metrics import classification_report\n",
        "print(classification_report(y_test, lr_pred))"
      ],
      "execution_count": 15,
      "outputs": [
        {
          "output_type": "stream",
          "text": [
            "              precision    recall  f1-score   support\n",
            "\n",
            "   12bp_14bp       0.00      0.00      0.00        19\n",
            "     3bp_4bp       0.16      0.05      0.08        79\n",
            "     5bp_6bp       0.35      0.34      0.35        68\n",
            "     7bp_8bp       0.41      0.47      0.43        60\n",
            "    9bp_11bp       0.43      0.39      0.41        66\n",
            "   Insertion       0.00      0.00      0.00        14\n",
            "  LessEq_2bp       0.30      0.64      0.41        99\n",
            "   More_15bp       0.00      0.00      0.00        26\n",
            "\n",
            "    accuracy                           0.33       431\n",
            "   macro avg       0.21      0.24      0.21       431\n",
            "weighted avg       0.28      0.33      0.29       431\n",
            "\n"
          ],
          "name": "stdout"
        },
        {
          "output_type": "stream",
          "text": [
            "/usr/local/lib/python3.6/dist-packages/sklearn/metrics/_classification.py:1272: UndefinedMetricWarning: Precision and F-score are ill-defined and being set to 0.0 in labels with no predicted samples. Use `zero_division` parameter to control this behavior.\n",
            "  _warn_prf(average, modifier, msg_start, len(result))\n"
          ],
          "name": "stderr"
        }
      ]
    },
    {
      "cell_type": "markdown",
      "metadata": {
        "id": "2919fde9tl2m",
        "colab_type": "text"
      },
      "source": [
        "### 1.2. SVM"
      ]
    },
    {
      "cell_type": "code",
      "metadata": {
        "id": "jokyTbqAtlay",
        "colab_type": "code",
        "colab": {
          "base_uri": "https://localhost:8080/",
          "height": 50
        },
        "outputId": "2ab04566-ea45-4064-f17a-aa424669a9ea"
      },
      "source": [
        "from sklearn.multiclass import OneVsRestClassifier\n",
        "from sklearn.svm import SVC\n",
        "from sklearn.model_selection import GridSearchCV\n",
        "#from sklearn.metrics import f1_score\n",
        "\n",
        "svm_to_set = OneVsRestClassifier(SVC(kernel=\"poly\"))\n",
        "parameters = {\n",
        "    \"estimator__C\": [1,2,4],\n",
        "    \"estimator__kernel\": [\"poly\",\"rbf\"],\n",
        "    \"estimator__degree\":[1, 2],\n",
        "}\n",
        "model_tunning = GridSearchCV(svm_to_set, param_grid=parameters, cv=5)#,scoring='f1_weighted')\n",
        "model_tunning.fit(X_train, y_train)\n",
        "print(model_tunning.best_score_)\n",
        "print(model_tunning.best_params_)"
      ],
      "execution_count": 16,
      "outputs": [
        {
          "output_type": "stream",
          "text": [
            "0.30670737182365093\n",
            "{'estimator__C': 4, 'estimator__degree': 1, 'estimator__kernel': 'poly'}\n"
          ],
          "name": "stdout"
        }
      ]
    },
    {
      "cell_type": "code",
      "metadata": {
        "id": "dfI1z7jJyZNE",
        "colab_type": "code",
        "colab": {}
      },
      "source": [
        "svm_pred = model_tunning.predict(X_test)"
      ],
      "execution_count": 17,
      "outputs": []
    },
    {
      "cell_type": "code",
      "metadata": {
        "colab_type": "code",
        "id": "tx7gkwZ4uY5J",
        "colab": {
          "base_uri": "https://localhost:8080/",
          "height": 66
        },
        "outputId": "e61c4655-55b8-46c3-bbb6-326d264727ce"
      },
      "source": [
        "print(\"Predictions for first 10 test samples:\\n{}\".format(svm_pred[1:10]))"
      ],
      "execution_count": 18,
      "outputs": [
        {
          "output_type": "stream",
          "text": [
            "Predictions for first 10 test samples:\n",
            "['3bp_4bp' 'LessEq_2bp' '5bp_6bp' 'LessEq_2bp' 'LessEq_2bp' '7bp_8bp'\n",
            " 'LessEq_2bp' '7bp_8bp' 'LessEq_2bp']\n"
          ],
          "name": "stdout"
        }
      ]
    },
    {
      "cell_type": "code",
      "metadata": {
        "colab_type": "code",
        "id": "Zr1He5ozuY5P",
        "colab": {
          "base_uri": "https://localhost:8080/",
          "height": 180
        },
        "outputId": "732ac0ac-2ad8-423c-ed38-26d4d5d1dba0"
      },
      "source": [
        "from sklearn.metrics import confusion_matrix\n",
        "from sklearn.metrics import accuracy_score\n",
        "svm_confMat = confusion_matrix(y_test, svm_pred)\n",
        "print(\"Accuracy: {:.3f}\".format(accuracy_score(y_test, svm_pred)))\n",
        "print(\"Confusion matrix:\\n{}\".format(svm_confMat))"
      ],
      "execution_count": 19,
      "outputs": [
        {
          "output_type": "stream",
          "text": [
            "Accuracy: 0.269\n",
            "Confusion matrix:\n",
            "[[ 4  0  0  2  4  1  7  1]\n",
            " [ 7  4 14 13  8  0 30  3]\n",
            " [ 1  5 16  9  9  4 24  0]\n",
            " [ 2  2  4 30  6  0 13  3]\n",
            " [ 4  6  5 16 19  1 13  2]\n",
            " [ 0  1  4  1  2  1  5  0]\n",
            " [ 2  8 10 11 19  4 41  4]\n",
            " [ 2  2  4  4  5  1  7  1]]\n"
          ],
          "name": "stdout"
        }
      ]
    },
    {
      "cell_type": "code",
      "metadata": {
        "colab_type": "code",
        "id": "B0N-R3NEuY5S",
        "colab": {
          "base_uri": "https://localhost:8080/",
          "height": 297
        },
        "outputId": "d4e4622c-3414-4771-f9b5-6dffc74852b3"
      },
      "source": [
        "df_cm = pd.DataFrame(svm_confMat, index = model_tunning.classes_,columns = model_tunning.classes_)\n",
        "sns.heatmap(df_cm, annot=True, cmap=\"YlGnBu\")\n",
        "plt.xlabel(\"Predicted\")\n",
        "plt.ylabel(\"True\")\n",
        "plt.tight_layout()\n",
        "plt.savefig(\"Approach1_SVM.png\", dpi=600)\n",
        "plt.show()"
      ],
      "execution_count": 20,
      "outputs": [
        {
          "output_type": "display_data",
          "data": {
            "image/png": "[encoded data removed]",
            "text/plain": [
              "<Figure size 432x288 with 2 Axes>"
            ]
          },
          "metadata": {
            "tags": [],
            "needs_background": "light"
          }
        }
      ]
    },
    {
      "cell_type": "code",
      "metadata": {
        "colab_type": "code",
        "id": "Rm69yZhpuY5W",
        "colab": {
          "base_uri": "https://localhost:8080/",
          "height": 261
        },
        "outputId": "695b2c63-8bfa-40a6-a9e3-98f69f5d34c0"
      },
      "source": [
        "from sklearn.metrics import classification_report\n",
        "print(classification_report(y_test, svm_pred))"
      ],
      "execution_count": 21,
      "outputs": [
        {
          "output_type": "stream",
          "text": [
            "              precision    recall  f1-score   support\n",
            "\n",
            "   12bp_14bp       0.18      0.21      0.20        19\n",
            "     3bp_4bp       0.14      0.05      0.07        79\n",
            "     5bp_6bp       0.28      0.24      0.26        68\n",
            "     7bp_8bp       0.35      0.50      0.41        60\n",
            "    9bp_11bp       0.26      0.29      0.28        66\n",
            "   Insertion       0.08      0.07      0.08        14\n",
            "  LessEq_2bp       0.29      0.41      0.34        99\n",
            "   More_15bp       0.07      0.04      0.05        26\n",
            "\n",
            "    accuracy                           0.27       431\n",
            "   macro avg       0.21      0.23      0.21       431\n",
            "weighted avg       0.24      0.27      0.25       431\n",
            "\n"
          ],
          "name": "stdout"
        }
      ]
    },
    {
      "cell_type": "code",
      "metadata": {
        "colab_type": "code",
        "id": "lv8yx1MguUZS",
        "colab": {
          "base_uri": "https://localhost:8080/",
          "height": 33
        },
        "outputId": "7e4f5d6c-90b4-4113-b5c3-c4ac90a2a59f"
      },
      "source": [
        "model_tunning.score(X_test,y_test)"
      ],
      "execution_count": 22,
      "outputs": [
        {
          "output_type": "execute_result",
          "data": {
            "text/plain": [
              "0.2691415313225058"
            ]
          },
          "metadata": {
            "tags": []
          },
          "execution_count": 22
        }
      ]
    },
    {
      "cell_type": "markdown",
      "metadata": {
        "id": "yDqf162lpIrF",
        "colab_type": "text"
      },
      "source": [
        "## 2. Approach 2. Outcome diversity\n",
        "\n",
        "Predict outcome diversity and identity using **multilabel classifiers**."
      ]
    },
    {
      "cell_type": "markdown",
      "metadata": {
        "id": "lgWa609kvaQ8",
        "colab_type": "text"
      },
      "source": [
        "The first step is applying a threshold of 0.13 to classify the classes as abundant or not abundant."
      ]
    },
    {
      "cell_type": "code",
      "metadata": {
        "id": "2pUyK06ApJ-P",
        "colab_type": "code",
        "colab": {
          "base_uri": "https://localhost:8080/",
          "height": 245
        },
        "outputId": "39b279b7-aadd-46ac-cfaf-79b0e351d6a0"
      },
      "source": [
        "# create multilabel binary outcomes with a binarizer\n",
        "from sklearn.preprocessing import Binarizer\n",
        "binarizer = Binarizer(threshold=0.13)\n",
        "ml_outc =  binarizer.transform(outcomes_cl.drop(['ids','MaxClass'],axis=1))\n",
        "ml_outc = pd.DataFrame(ml_outc, index=features['ids'].values, columns=outcomes_cl.drop(['ids','MaxClass'], axis=1).columns)\n",
        "print(ml_outc)"
      ],
      "execution_count": 23,
      "outputs": [
        {
          "output_type": "stream",
          "text": [
            "                           LessEq_2bp  3bp_4bp  ...  More_15bp  Insertion\n",
            "ENSMUSG00000033788_gR434r         0.0      0.0  ...        0.0        1.0\n",
            "ENSMUSG00000033788_gR113f         0.0      0.0  ...        1.0        0.0\n",
            "ENSMUSG00000033788_gR70f          0.0      0.0  ...        0.0        1.0\n",
            "ENSMUSG00000023020_gR346r         1.0      1.0  ...        0.0        0.0\n",
            "ENSMUSG00000023020_gR376r         1.0      0.0  ...        0.0        0.0\n",
            "...                               ...      ...  ...        ...        ...\n",
            "ENSMUSG00000025791_gR257r         1.0      0.0  ...        0.0        0.0\n",
            "ENSMUSG00000025791_gR494f         0.0      1.0  ...        0.0        0.0\n",
            "ENSMUSG00000023484_gR261f         1.0      1.0  ...        0.0        0.0\n",
            "ENSMUSG00000023484_gR270f         0.0      0.0  ...        0.0        0.0\n",
            "ENSMUSG00000023484_gR479f         0.0      1.0  ...        0.0        0.0\n",
            "\n",
            "[1722 rows x 8 columns]\n"
          ],
          "name": "stdout"
        }
      ]
    },
    {
      "cell_type": "markdown",
      "metadata": {
        "id": "i-HEtjtKvfCP",
        "colab_type": "text"
      },
      "source": [
        "Most of the gRNA have about 3 classes considered abundant, and none above 6 classes. Since relative frequency is used, gRNAs which have less abundant classes have less dispersion of the outcomes, because that class is predominant. gRNAs that have a high number of classes have more dispersion, because more classes are present in a relatively similar and low frequency."
      ]
    },
    {
      "cell_type": "code",
      "metadata": {
        "id": "BiOGPwBFsDSY",
        "colab_type": "code",
        "colab": {
          "base_uri": "https://localhost:8080/",
          "height": 265
        },
        "outputId": "38a3f682-f414-404c-e385-cccda06f0def"
      },
      "source": [
        "sns.distplot(ml_outc.sum(axis=1), kde=False)\n",
        "plt.show()"
      ],
      "execution_count": 24,
      "outputs": [
        {
          "output_type": "display_data",
          "data": {
            "image/png": "[encoded data removed]",
            "text/plain": [
              "<Figure size 432x288 with 1 Axes>"
            ]
          },
          "metadata": {
            "tags": [],
            "needs_background": "light"
          }
        }
      ]
    },
    {
      "cell_type": "code",
      "metadata": {
        "colab_type": "code",
        "id": "H8vMGiFevXIo",
        "colab": {}
      },
      "source": [
        "# Split data in training and test sets\n",
        "X_train, X_test, y_train, y_test = train_test_split(\n",
        "    features.drop([\"ids\"],axis=1),ml_outc, random_state=0)"
      ],
      "execution_count": 25,
      "outputs": []
    },
    {
      "cell_type": "code",
      "metadata": {
        "colab_type": "code",
        "id": "lyzcYzx1vXI2",
        "colab": {
          "base_uri": "https://localhost:8080/",
          "height": 82
        },
        "outputId": "c8684599-456a-4625-8a83-86cb6a4e2409"
      },
      "source": [
        "# This is the shape of the features and labels (outcomes)\n",
        "# In this approach, 8 different outcomes are predicted as abundant/not abundant in the samples.\n",
        "print(\"Training set features:   \" + str(X_train.shape) + \"(Samples,features)\")\n",
        "print(\"Test set features:       \" + str(X_test.shape) +  \" (Samples,features)\")\n",
        "print(\"Training set outcomes:   \" + str(y_train.shape) + \"  (Samples,labels)\")\n",
        "print(\"Test set outcomes:       \" + str(y_test.shape) +  \"   (Samples,labels)\")"
      ],
      "execution_count": 26,
      "outputs": [
        {
          "output_type": "stream",
          "text": [
            "Training set features:   (1291, 389)(Samples,features)\n",
            "Test set features:       (431, 389) (Samples,features)\n",
            "Training set outcomes:   (1291, 8)  (Samples,labels)\n",
            "Test set outcomes:       (431, 8)   (Samples,labels)\n"
          ],
          "name": "stdout"
        }
      ]
    },
    {
      "cell_type": "code",
      "metadata": {
        "colab_type": "code",
        "id": "IDpqam_tu6hn",
        "colab": {}
      },
      "source": [
        "# Random forest is optimized to search for multiple depths and features\n",
        "from sklearn.model_selection import GridSearchCV\n",
        "from sklearn.ensemble import RandomForestClassifier\n",
        "\n",
        "parameters = {\n",
        "    'n_estimators'      : [250,400,500],\n",
        "    'max_features'      : [6,10,15,20], \n",
        "    'max_depth'         : [10,20,40],\n",
        "    'random_state'      : [0],\n",
        "}\n",
        "\n",
        "rf_cl = GridSearchCV(RandomForestClassifier(), parameters, cv=5,\n",
        "                     scoring=\"accuracy\", n_jobs=-1)"
      ],
      "execution_count": 27,
      "outputs": []
    },
    {
      "cell_type": "code",
      "metadata": {
        "colab_type": "code",
        "id": "2SaJKeCbu6hq",
        "colab": {
          "base_uri": "https://localhost:8080/",
          "height": 375
        },
        "outputId": "0472a7e0-9810-41a9-f2e3-867f43ffe218"
      },
      "source": [
        "# Train the model\n",
        "rf_cl.fit(X_train, y_train)"
      ],
      "execution_count": 28,
      "outputs": [
        {
          "output_type": "execute_result",
          "data": {
            "text/plain": [
              "GridSearchCV(cv=5, error_score=nan,\n",
              "             estimator=RandomForestClassifier(bootstrap=True, ccp_alpha=0.0,\n",
              "                                              class_weight=None,\n",
              "                                              criterion='gini', max_depth=None,\n",
              "                                              max_features='auto',\n",
              "                                              max_leaf_nodes=None,\n",
              "                                              max_samples=None,\n",
              "                                              min_impurity_decrease=0.0,\n",
              "                                              min_impurity_split=None,\n",
              "                                              min_samples_leaf=1,\n",
              "                                              min_samples_split=2,\n",
              "                                              min_weight_fraction_leaf=0.0,\n",
              "                                              n_estimators=100, n_jobs=None,\n",
              "                                              oob_score=False,\n",
              "                                              random_state=None, verbose=0,\n",
              "                                              warm_start=False),\n",
              "             iid='deprecated', n_jobs=-1,\n",
              "             param_grid={'max_depth': [10, 20, 40],\n",
              "                         'max_features': [6, 10, 15, 20],\n",
              "                         'n_estimators': [250, 400, 500], 'random_state': [0]},\n",
              "             pre_dispatch='2*n_jobs', refit=True, return_train_score=False,\n",
              "             scoring='accuracy', verbose=0)"
            ]
          },
          "metadata": {
            "tags": []
          },
          "execution_count": 28
        }
      ]
    },
    {
      "cell_type": "code",
      "metadata": {
        "id": "ovm258ZC3s-r",
        "colab_type": "code",
        "colab": {
          "base_uri": "https://localhost:8080/",
          "height": 147
        },
        "outputId": "67b82667-3782-465e-99de-15ca4b2cdee9"
      },
      "source": [
        "# The model predicts the probability of having each of the 8 classes abundant (1) or not (0)\n",
        "rf_cl.classes_"
      ],
      "execution_count": 29,
      "outputs": [
        {
          "output_type": "execute_result",
          "data": {
            "text/plain": [
              "[array([0., 1.]),\n",
              " array([0., 1.]),\n",
              " array([0., 1.]),\n",
              " array([0., 1.]),\n",
              " array([0., 1.]),\n",
              " array([0., 1.]),\n",
              " array([0., 1.]),\n",
              " array([0., 1.])]"
            ]
          },
          "metadata": {
            "tags": []
          },
          "execution_count": 29
        }
      ]
    },
    {
      "cell_type": "code",
      "metadata": {
        "id": "LwaJ-fky159T",
        "colab_type": "code",
        "colab": {
          "base_uri": "https://localhost:8080/",
          "height": 391
        },
        "outputId": "30f36522-8ba6-4309-88cf-9228d7a84c18"
      },
      "source": [
        "preds = pd.DataFrame(rf_cl.predict(X_test),index=y_test.index ,columns=outcomes_cl.drop(['ids','MaxClass'], axis=1).columns)\n",
        "preds\n",
        "# not interested in probability for each class, since the training data was given as binaries.\n",
        "# These probabilities do not correspond to the frequency of the outcomes, they indicate the likeliness of being abundant or not.\n",
        "#rf_cl.predict_proba(X_test)"
      ],
      "execution_count": 30,
      "outputs": [
        {
          "output_type": "execute_result",
          "data": {
            "text/html": [
              "<div>\n",
              "<style scoped>\n",
              "    .dataframe tbody tr th:only-of-type {\n",
              "        vertical-align: middle;\n",
              "    }\n",
              "\n",
              "    .dataframe tbody tr th {\n",
              "        vertical-align: top;\n",
              "    }\n",
              "\n",
              "    .dataframe thead th {\n",
              "        text-align: right;\n",
              "    }\n",
              "</style>\n",
              "<table border=\"1\" class=\"dataframe\">\n",
              "  <thead>\n",
              "    <tr style=\"text-align: right;\">\n",
              "      <th></th>\n",
              "      <th>LessEq_2bp</th>\n",
              "      <th>3bp_4bp</th>\n",
              "      <th>5bp_6bp</th>\n",
              "      <th>7bp_8bp</th>\n",
              "      <th>9bp_11bp</th>\n",
              "      <th>12bp_14bp</th>\n",
              "      <th>More_15bp</th>\n",
              "      <th>Insertion</th>\n",
              "    </tr>\n",
              "  </thead>\n",
              "  <tbody>\n",
              "    <tr>\n",
              "      <th>ENSMUSG00000039533_gR474r</th>\n",
              "      <td>0.0</td>\n",
              "      <td>0.0</td>\n",
              "      <td>0.0</td>\n",
              "      <td>0.0</td>\n",
              "      <td>1.0</td>\n",
              "      <td>0.0</td>\n",
              "      <td>0.0</td>\n",
              "      <td>0.0</td>\n",
              "    </tr>\n",
              "    <tr>\n",
              "      <th>ENSMUSG00000027889_gR269f</th>\n",
              "      <td>1.0</td>\n",
              "      <td>0.0</td>\n",
              "      <td>0.0</td>\n",
              "      <td>0.0</td>\n",
              "      <td>0.0</td>\n",
              "      <td>0.0</td>\n",
              "      <td>0.0</td>\n",
              "      <td>1.0</td>\n",
              "    </tr>\n",
              "    <tr>\n",
              "      <th>ENSMUSG00000059363_gR309f</th>\n",
              "      <td>0.0</td>\n",
              "      <td>0.0</td>\n",
              "      <td>0.0</td>\n",
              "      <td>0.0</td>\n",
              "      <td>0.0</td>\n",
              "      <td>0.0</td>\n",
              "      <td>0.0</td>\n",
              "      <td>0.0</td>\n",
              "    </tr>\n",
              "    <tr>\n",
              "      <th>ENSMUSG00000030654_gR398f</th>\n",
              "      <td>1.0</td>\n",
              "      <td>0.0</td>\n",
              "      <td>1.0</td>\n",
              "      <td>0.0</td>\n",
              "      <td>0.0</td>\n",
              "      <td>0.0</td>\n",
              "      <td>0.0</td>\n",
              "      <td>0.0</td>\n",
              "    </tr>\n",
              "    <tr>\n",
              "      <th>ENSMUSG00000042737_gR358f</th>\n",
              "      <td>1.0</td>\n",
              "      <td>0.0</td>\n",
              "      <td>1.0</td>\n",
              "      <td>0.0</td>\n",
              "      <td>0.0</td>\n",
              "      <td>0.0</td>\n",
              "      <td>0.0</td>\n",
              "      <td>0.0</td>\n",
              "    </tr>\n",
              "    <tr>\n",
              "      <th>...</th>\n",
              "      <td>...</td>\n",
              "      <td>...</td>\n",
              "      <td>...</td>\n",
              "      <td>...</td>\n",
              "      <td>...</td>\n",
              "      <td>...</td>\n",
              "      <td>...</td>\n",
              "      <td>...</td>\n",
              "    </tr>\n",
              "    <tr>\n",
              "      <th>ENSMUSG00000014609_gR148r</th>\n",
              "      <td>0.0</td>\n",
              "      <td>0.0</td>\n",
              "      <td>0.0</td>\n",
              "      <td>1.0</td>\n",
              "      <td>0.0</td>\n",
              "      <td>0.0</td>\n",
              "      <td>0.0</td>\n",
              "      <td>0.0</td>\n",
              "    </tr>\n",
              "    <tr>\n",
              "      <th>ENSMUSG00000068699_gR248r</th>\n",
              "      <td>1.0</td>\n",
              "      <td>1.0</td>\n",
              "      <td>0.0</td>\n",
              "      <td>0.0</td>\n",
              "      <td>0.0</td>\n",
              "      <td>0.0</td>\n",
              "      <td>0.0</td>\n",
              "      <td>0.0</td>\n",
              "    </tr>\n",
              "    <tr>\n",
              "      <th>ENSMUSG00000022982_gR249r</th>\n",
              "      <td>0.0</td>\n",
              "      <td>0.0</td>\n",
              "      <td>0.0</td>\n",
              "      <td>0.0</td>\n",
              "      <td>0.0</td>\n",
              "      <td>0.0</td>\n",
              "      <td>0.0</td>\n",
              "      <td>0.0</td>\n",
              "    </tr>\n",
              "    <tr>\n",
              "      <th>ENSMUSG00000039519_gR271f</th>\n",
              "      <td>0.0</td>\n",
              "      <td>0.0</td>\n",
              "      <td>0.0</td>\n",
              "      <td>1.0</td>\n",
              "      <td>0.0</td>\n",
              "      <td>0.0</td>\n",
              "      <td>0.0</td>\n",
              "      <td>0.0</td>\n",
              "    </tr>\n",
              "    <tr>\n",
              "      <th>ENSMUSG00000020396_gR199f</th>\n",
              "      <td>0.0</td>\n",
              "      <td>0.0</td>\n",
              "      <td>0.0</td>\n",
              "      <td>0.0</td>\n",
              "      <td>0.0</td>\n",
              "      <td>0.0</td>\n",
              "      <td>0.0</td>\n",
              "      <td>0.0</td>\n",
              "    </tr>\n",
              "  </tbody>\n",
              "</table>\n",
              "<p>431 rows × 8 columns</p>\n",
              "</div>"
            ],
            "text/plain": [
              "                           LessEq_2bp  3bp_4bp  ...  More_15bp  Insertion\n",
              "ENSMUSG00000039533_gR474r         0.0      0.0  ...        0.0        0.0\n",
              "ENSMUSG00000027889_gR269f         1.0      0.0  ...        0.0        1.0\n",
              "ENSMUSG00000059363_gR309f         0.0      0.0  ...        0.0        0.0\n",
              "ENSMUSG00000030654_gR398f         1.0      0.0  ...        0.0        0.0\n",
              "ENSMUSG00000042737_gR358f         1.0      0.0  ...        0.0        0.0\n",
              "...                               ...      ...  ...        ...        ...\n",
              "ENSMUSG00000014609_gR148r         0.0      0.0  ...        0.0        0.0\n",
              "ENSMUSG00000068699_gR248r         1.0      1.0  ...        0.0        0.0\n",
              "ENSMUSG00000022982_gR249r         0.0      0.0  ...        0.0        0.0\n",
              "ENSMUSG00000039519_gR271f         0.0      0.0  ...        0.0        0.0\n",
              "ENSMUSG00000020396_gR199f         0.0      0.0  ...        0.0        0.0\n",
              "\n",
              "[431 rows x 8 columns]"
            ]
          },
          "metadata": {
            "tags": []
          },
          "execution_count": 30
        }
      ]
    },
    {
      "cell_type": "code",
      "metadata": {
        "id": "Alx_KPOd3RnY",
        "colab_type": "code",
        "colab": {
          "base_uri": "https://localhost:8080/",
          "height": 391
        },
        "outputId": "24868f3d-5ec7-4e6d-cc7a-8e48ecc7b886"
      },
      "source": [
        "# Just for visual comparision with the predictions... some outcomes are similar and some not.\n",
        "y_test"
      ],
      "execution_count": 31,
      "outputs": [
        {
          "output_type": "execute_result",
          "data": {
            "text/html": [
              "<div>\n",
              "<style scoped>\n",
              "    .dataframe tbody tr th:only-of-type {\n",
              "        vertical-align: middle;\n",
              "    }\n",
              "\n",
              "    .dataframe tbody tr th {\n",
              "        vertical-align: top;\n",
              "    }\n",
              "\n",
              "    .dataframe thead th {\n",
              "        text-align: right;\n",
              "    }\n",
              "</style>\n",
              "<table border=\"1\" class=\"dataframe\">\n",
              "  <thead>\n",
              "    <tr style=\"text-align: right;\">\n",
              "      <th></th>\n",
              "      <th>LessEq_2bp</th>\n",
              "      <th>3bp_4bp</th>\n",
              "      <th>5bp_6bp</th>\n",
              "      <th>7bp_8bp</th>\n",
              "      <th>9bp_11bp</th>\n",
              "      <th>12bp_14bp</th>\n",
              "      <th>More_15bp</th>\n",
              "      <th>Insertion</th>\n",
              "    </tr>\n",
              "  </thead>\n",
              "  <tbody>\n",
              "    <tr>\n",
              "      <th>ENSMUSG00000039533_gR474r</th>\n",
              "      <td>0.0</td>\n",
              "      <td>1.0</td>\n",
              "      <td>1.0</td>\n",
              "      <td>0.0</td>\n",
              "      <td>1.0</td>\n",
              "      <td>0.0</td>\n",
              "      <td>0.0</td>\n",
              "      <td>0.0</td>\n",
              "    </tr>\n",
              "    <tr>\n",
              "      <th>ENSMUSG00000027889_gR269f</th>\n",
              "      <td>0.0</td>\n",
              "      <td>0.0</td>\n",
              "      <td>0.0</td>\n",
              "      <td>0.0</td>\n",
              "      <td>1.0</td>\n",
              "      <td>0.0</td>\n",
              "      <td>0.0</td>\n",
              "      <td>1.0</td>\n",
              "    </tr>\n",
              "    <tr>\n",
              "      <th>ENSMUSG00000059363_gR309f</th>\n",
              "      <td>1.0</td>\n",
              "      <td>1.0</td>\n",
              "      <td>0.0</td>\n",
              "      <td>1.0</td>\n",
              "      <td>0.0</td>\n",
              "      <td>0.0</td>\n",
              "      <td>0.0</td>\n",
              "      <td>0.0</td>\n",
              "    </tr>\n",
              "    <tr>\n",
              "      <th>ENSMUSG00000030654_gR398f</th>\n",
              "      <td>1.0</td>\n",
              "      <td>0.0</td>\n",
              "      <td>0.0</td>\n",
              "      <td>0.0</td>\n",
              "      <td>0.0</td>\n",
              "      <td>1.0</td>\n",
              "      <td>0.0</td>\n",
              "      <td>0.0</td>\n",
              "    </tr>\n",
              "    <tr>\n",
              "      <th>ENSMUSG00000042737_gR358f</th>\n",
              "      <td>1.0</td>\n",
              "      <td>0.0</td>\n",
              "      <td>1.0</td>\n",
              "      <td>0.0</td>\n",
              "      <td>0.0</td>\n",
              "      <td>0.0</td>\n",
              "      <td>1.0</td>\n",
              "      <td>0.0</td>\n",
              "    </tr>\n",
              "    <tr>\n",
              "      <th>...</th>\n",
              "      <td>...</td>\n",
              "      <td>...</td>\n",
              "      <td>...</td>\n",
              "      <td>...</td>\n",
              "      <td>...</td>\n",
              "      <td>...</td>\n",
              "      <td>...</td>\n",
              "      <td>...</td>\n",
              "    </tr>\n",
              "    <tr>\n",
              "      <th>ENSMUSG00000014609_gR148r</th>\n",
              "      <td>0.0</td>\n",
              "      <td>0.0</td>\n",
              "      <td>0.0</td>\n",
              "      <td>1.0</td>\n",
              "      <td>1.0</td>\n",
              "      <td>0.0</td>\n",
              "      <td>0.0</td>\n",
              "      <td>0.0</td>\n",
              "    </tr>\n",
              "    <tr>\n",
              "      <th>ENSMUSG00000068699_gR248r</th>\n",
              "      <td>1.0</td>\n",
              "      <td>1.0</td>\n",
              "      <td>0.0</td>\n",
              "      <td>1.0</td>\n",
              "      <td>0.0</td>\n",
              "      <td>0.0</td>\n",
              "      <td>0.0</td>\n",
              "      <td>0.0</td>\n",
              "    </tr>\n",
              "    <tr>\n",
              "      <th>ENSMUSG00000022982_gR249r</th>\n",
              "      <td>0.0</td>\n",
              "      <td>0.0</td>\n",
              "      <td>0.0</td>\n",
              "      <td>1.0</td>\n",
              "      <td>1.0</td>\n",
              "      <td>0.0</td>\n",
              "      <td>1.0</td>\n",
              "      <td>1.0</td>\n",
              "    </tr>\n",
              "    <tr>\n",
              "      <th>ENSMUSG00000039519_gR271f</th>\n",
              "      <td>0.0</td>\n",
              "      <td>0.0</td>\n",
              "      <td>0.0</td>\n",
              "      <td>1.0</td>\n",
              "      <td>0.0</td>\n",
              "      <td>1.0</td>\n",
              "      <td>0.0</td>\n",
              "      <td>0.0</td>\n",
              "    </tr>\n",
              "    <tr>\n",
              "      <th>ENSMUSG00000020396_gR199f</th>\n",
              "      <td>0.0</td>\n",
              "      <td>0.0</td>\n",
              "      <td>0.0</td>\n",
              "      <td>0.0</td>\n",
              "      <td>1.0</td>\n",
              "      <td>0.0</td>\n",
              "      <td>0.0</td>\n",
              "      <td>0.0</td>\n",
              "    </tr>\n",
              "  </tbody>\n",
              "</table>\n",
              "<p>431 rows × 8 columns</p>\n",
              "</div>"
            ],
            "text/plain": [
              "                           LessEq_2bp  3bp_4bp  ...  More_15bp  Insertion\n",
              "ENSMUSG00000039533_gR474r         0.0      1.0  ...        0.0        0.0\n",
              "ENSMUSG00000027889_gR269f         0.0      0.0  ...        0.0        1.0\n",
              "ENSMUSG00000059363_gR309f         1.0      1.0  ...        0.0        0.0\n",
              "ENSMUSG00000030654_gR398f         1.0      0.0  ...        0.0        0.0\n",
              "ENSMUSG00000042737_gR358f         1.0      0.0  ...        1.0        0.0\n",
              "...                               ...      ...  ...        ...        ...\n",
              "ENSMUSG00000014609_gR148r         0.0      0.0  ...        0.0        0.0\n",
              "ENSMUSG00000068699_gR248r         1.0      1.0  ...        0.0        0.0\n",
              "ENSMUSG00000022982_gR249r         0.0      0.0  ...        1.0        1.0\n",
              "ENSMUSG00000039519_gR271f         0.0      0.0  ...        0.0        0.0\n",
              "ENSMUSG00000020396_gR199f         0.0      0.0  ...        0.0        0.0\n",
              "\n",
              "[431 rows x 8 columns]"
            ]
          },
          "metadata": {
            "tags": []
          },
          "execution_count": 31
        }
      ]
    },
    {
      "cell_type": "markdown",
      "metadata": {
        "id": "3BYuwSq6wdgr",
        "colab_type": "text"
      },
      "source": [
        "The performance of the model is assessed by getting the number of outcomes that were correctly predicted for each target region. The distribution of the number of coincidences is shown below."
      ]
    },
    {
      "cell_type": "code",
      "metadata": {
        "id": "dCMNXCDO34IS",
        "colab_type": "code",
        "colab": {
          "base_uri": "https://localhost:8080/",
          "height": 391
        },
        "outputId": "99f90ddb-aae2-4135-95d7-23201151e4dc"
      },
      "source": [
        "compare_predTest = (preds == y_test)\n",
        "compare_predTest['Num_coinc'] = compare_predTest.sum(axis=1)\n",
        "compare_predTest"
      ],
      "execution_count": 32,
      "outputs": [
        {
          "output_type": "execute_result",
          "data": {
            "text/html": [
              "<div>\n",
              "<style scoped>\n",
              "    .dataframe tbody tr th:only-of-type {\n",
              "        vertical-align: middle;\n",
              "    }\n",
              "\n",
              "    .dataframe tbody tr th {\n",
              "        vertical-align: top;\n",
              "    }\n",
              "\n",
              "    .dataframe thead th {\n",
              "        text-align: right;\n",
              "    }\n",
              "</style>\n",
              "<table border=\"1\" class=\"dataframe\">\n",
              "  <thead>\n",
              "    <tr style=\"text-align: right;\">\n",
              "      <th></th>\n",
              "      <th>LessEq_2bp</th>\n",
              "      <th>3bp_4bp</th>\n",
              "      <th>5bp_6bp</th>\n",
              "      <th>7bp_8bp</th>\n",
              "      <th>9bp_11bp</th>\n",
              "      <th>12bp_14bp</th>\n",
              "      <th>More_15bp</th>\n",
              "      <th>Insertion</th>\n",
              "      <th>Num_coinc</th>\n",
              "    </tr>\n",
              "  </thead>\n",
              "  <tbody>\n",
              "    <tr>\n",
              "      <th>ENSMUSG00000039533_gR474r</th>\n",
              "      <td>True</td>\n",
              "      <td>False</td>\n",
              "      <td>False</td>\n",
              "      <td>True</td>\n",
              "      <td>True</td>\n",
              "      <td>True</td>\n",
              "      <td>True</td>\n",
              "      <td>True</td>\n",
              "      <td>6</td>\n",
              "    </tr>\n",
              "    <tr>\n",
              "      <th>ENSMUSG00000027889_gR269f</th>\n",
              "      <td>False</td>\n",
              "      <td>True</td>\n",
              "      <td>True</td>\n",
              "      <td>True</td>\n",
              "      <td>False</td>\n",
              "      <td>True</td>\n",
              "      <td>True</td>\n",
              "      <td>True</td>\n",
              "      <td>6</td>\n",
              "    </tr>\n",
              "    <tr>\n",
              "      <th>ENSMUSG00000059363_gR309f</th>\n",
              "      <td>False</td>\n",
              "      <td>False</td>\n",
              "      <td>True</td>\n",
              "      <td>False</td>\n",
              "      <td>True</td>\n",
              "      <td>True</td>\n",
              "      <td>True</td>\n",
              "      <td>True</td>\n",
              "      <td>5</td>\n",
              "    </tr>\n",
              "    <tr>\n",
              "      <th>ENSMUSG00000030654_gR398f</th>\n",
              "      <td>True</td>\n",
              "      <td>True</td>\n",
              "      <td>False</td>\n",
              "      <td>True</td>\n",
              "      <td>True</td>\n",
              "      <td>False</td>\n",
              "      <td>True</td>\n",
              "      <td>True</td>\n",
              "      <td>6</td>\n",
              "    </tr>\n",
              "    <tr>\n",
              "      <th>ENSMUSG00000042737_gR358f</th>\n",
              "      <td>True</td>\n",
              "      <td>True</td>\n",
              "      <td>True</td>\n",
              "      <td>True</td>\n",
              "      <td>True</td>\n",
              "      <td>True</td>\n",
              "      <td>False</td>\n",
              "      <td>True</td>\n",
              "      <td>7</td>\n",
              "    </tr>\n",
              "    <tr>\n",
              "      <th>...</th>\n",
              "      <td>...</td>\n",
              "      <td>...</td>\n",
              "      <td>...</td>\n",
              "      <td>...</td>\n",
              "      <td>...</td>\n",
              "      <td>...</td>\n",
              "      <td>...</td>\n",
              "      <td>...</td>\n",
              "      <td>...</td>\n",
              "    </tr>\n",
              "    <tr>\n",
              "      <th>ENSMUSG00000014609_gR148r</th>\n",
              "      <td>True</td>\n",
              "      <td>True</td>\n",
              "      <td>True</td>\n",
              "      <td>True</td>\n",
              "      <td>False</td>\n",
              "      <td>True</td>\n",
              "      <td>True</td>\n",
              "      <td>True</td>\n",
              "      <td>7</td>\n",
              "    </tr>\n",
              "    <tr>\n",
              "      <th>ENSMUSG00000068699_gR248r</th>\n",
              "      <td>True</td>\n",
              "      <td>True</td>\n",
              "      <td>True</td>\n",
              "      <td>False</td>\n",
              "      <td>True</td>\n",
              "      <td>True</td>\n",
              "      <td>True</td>\n",
              "      <td>True</td>\n",
              "      <td>7</td>\n",
              "    </tr>\n",
              "    <tr>\n",
              "      <th>ENSMUSG00000022982_gR249r</th>\n",
              "      <td>True</td>\n",
              "      <td>True</td>\n",
              "      <td>True</td>\n",
              "      <td>False</td>\n",
              "      <td>False</td>\n",
              "      <td>True</td>\n",
              "      <td>False</td>\n",
              "      <td>False</td>\n",
              "      <td>4</td>\n",
              "    </tr>\n",
              "    <tr>\n",
              "      <th>ENSMUSG00000039519_gR271f</th>\n",
              "      <td>True</td>\n",
              "      <td>True</td>\n",
              "      <td>True</td>\n",
              "      <td>True</td>\n",
              "      <td>True</td>\n",
              "      <td>False</td>\n",
              "      <td>True</td>\n",
              "      <td>True</td>\n",
              "      <td>7</td>\n",
              "    </tr>\n",
              "    <tr>\n",
              "      <th>ENSMUSG00000020396_gR199f</th>\n",
              "      <td>True</td>\n",
              "      <td>True</td>\n",
              "      <td>True</td>\n",
              "      <td>True</td>\n",
              "      <td>False</td>\n",
              "      <td>True</td>\n",
              "      <td>True</td>\n",
              "      <td>True</td>\n",
              "      <td>7</td>\n",
              "    </tr>\n",
              "  </tbody>\n",
              "</table>\n",
              "<p>431 rows × 9 columns</p>\n",
              "</div>"
            ],
            "text/plain": [
              "                           LessEq_2bp  3bp_4bp  ...  Insertion  Num_coinc\n",
              "ENSMUSG00000039533_gR474r        True    False  ...       True          6\n",
              "ENSMUSG00000027889_gR269f       False     True  ...       True          6\n",
              "ENSMUSG00000059363_gR309f       False    False  ...       True          5\n",
              "ENSMUSG00000030654_gR398f        True     True  ...       True          6\n",
              "ENSMUSG00000042737_gR358f        True     True  ...       True          7\n",
              "...                               ...      ...  ...        ...        ...\n",
              "ENSMUSG00000014609_gR148r        True     True  ...       True          7\n",
              "ENSMUSG00000068699_gR248r        True     True  ...       True          7\n",
              "ENSMUSG00000022982_gR249r        True     True  ...      False          4\n",
              "ENSMUSG00000039519_gR271f        True     True  ...       True          7\n",
              "ENSMUSG00000020396_gR199f        True     True  ...       True          7\n",
              "\n",
              "[431 rows x 9 columns]"
            ]
          },
          "metadata": {
            "tags": []
          },
          "execution_count": 32
        }
      ]
    },
    {
      "cell_type": "code",
      "metadata": {
        "id": "Z31GKZxa5K6G",
        "colab_type": "code",
        "colab": {
          "base_uri": "https://localhost:8080/",
          "height": 278
        },
        "outputId": "6432e630-33c7-46e4-b9f3-d0665175db6e"
      },
      "source": [
        "coinc_freq = pd.DataFrame(compare_predTest.Num_coinc.value_counts(normalize=True), index=[1,2,3,4,5,6,7,8])\n",
        "coinc_freq.sort_index(inplace=True)\n",
        "coinc_freq.fillna(0, inplace=True)\n",
        "coinc_freq.columns = [\"Frequency\"]\n",
        "coinc_freq['Coincidences'] = [1,2,3,4,5,6,7,8]\n",
        "coinc_freq\n",
        "sns.barplot(x=\"Coincidences\", y=\"Frequency\", data=coinc_freq)\n",
        "plt.show()"
      ],
      "execution_count": 33,
      "outputs": [
        {
          "output_type": "display_data",
          "data": {
            "image/png": "[encoded data removed]",
            "text/plain": [
              "<Figure size 432x288 with 1 Axes>"
            ]
          },
          "metadata": {
            "tags": [],
            "needs_background": "light"
          }
        }
      ]
    },
    {
      "cell_type": "code",
      "metadata": {
        "id": "1sVKdYmW21T8",
        "colab_type": "code",
        "colab": {
          "base_uri": "https://localhost:8080/",
          "height": 33
        },
        "outputId": "1acf608a-c1a4-4f97-ceaf-aa742e42c25c"
      },
      "source": [
        "# Really low accuracy score\n",
        "rf_cl.score(X_test, y_test)"
      ],
      "execution_count": 34,
      "outputs": [
        {
          "output_type": "execute_result",
          "data": {
            "text/plain": [
              "0.07888631090487239"
            ]
          },
          "metadata": {
            "tags": []
          },
          "execution_count": 34
        }
      ]
    },
    {
      "cell_type": "markdown",
      "metadata": {
        "id": "mCszY6Mejd1v",
        "colab_type": "text"
      },
      "source": [
        "To evaluate the performance of the Random forest classifier, it is compared with a **Dummy** classifier.\n",
        "This dummy classifier predicts the outcomes based on frequency of each outcome (rows frequency). Hence, one classifier per outcome(column) (8 in total)."
      ]
    },
    {
      "cell_type": "code",
      "metadata": {
        "id": "vAnXFn2kjfuk",
        "colab_type": "code",
        "colab": {}
      },
      "source": [
        "from sklearn.dummy import DummyClassifier\n",
        "dclf = DummyClassifier(strategy = 'stratified', random_state=0)\n",
        "dclf.fit(X_train, y_train)\n",
        "dcl_pred_raw = dclf.predict(X_test)\n",
        "dcl_preds = pd.DataFrame(dcl_pred_raw,index=y_test.index ,columns=outcomes_cl.drop(['ids','MaxClass'], axis=1).columns)"
      ],
      "execution_count": 35,
      "outputs": []
    },
    {
      "cell_type": "code",
      "metadata": {
        "id": "kPGe9DyamSnz",
        "colab_type": "code",
        "colab": {
          "base_uri": "https://localhost:8080/",
          "height": 33
        },
        "outputId": "1ba7af7e-43fb-4143-fb0d-ce2a8e05d90e"
      },
      "source": [
        "# Dummy classifier accuracy is even lower.\n",
        "print(dclf.score(X_test, y_test))"
      ],
      "execution_count": 36,
      "outputs": [
        {
          "output_type": "stream",
          "text": [
            "0.013921113689095127\n"
          ],
          "name": "stdout"
        }
      ]
    },
    {
      "cell_type": "code",
      "metadata": {
        "colab_type": "code",
        "id": "Kw_cTl59ldYJ",
        "colab": {}
      },
      "source": [
        "compare_DCpredTest = (dcl_preds == y_test)\n",
        "compare_DCpredTest['Num_coinc'] = compare_DCpredTest.sum(axis=1)"
      ],
      "execution_count": 37,
      "outputs": []
    },
    {
      "cell_type": "code",
      "metadata": {
        "colab_type": "code",
        "id": "eu4C3ww1ldYR",
        "colab": {
          "base_uri": "https://localhost:8080/",
          "height": 278
        },
        "outputId": "c3eb6822-59c3-4b7a-97b3-18119e540ff1"
      },
      "source": [
        "# This is the distribution of correct identities by the dummy classifier.\n",
        "coinc_DCfreq = pd.DataFrame(compare_DCpredTest.Num_coinc.value_counts(normalize=True), index=[1,2,3,4,5,6,7,8])\n",
        "coinc_DCfreq.sort_index(inplace=True)\n",
        "coinc_DCfreq.fillna(0, inplace=True)\n",
        "coinc_DCfreq.columns = [\"Frequency\"]\n",
        "coinc_DCfreq['Coincidences'] = [1,2,3,4,5,6,7,8]\n",
        "coinc_DCfreq\n",
        "sns.barplot(x=\"Coincidences\", y=\"Frequency\", data=coinc_DCfreq)\n",
        "plt.show()"
      ],
      "execution_count": 38,
      "outputs": [
        {
          "output_type": "display_data",
          "data": {
            "image/png": "[encoded data removed]",
            "text/plain": [
              "<Figure size 432x288 with 1 Axes>"
            ]
          },
          "metadata": {
            "tags": [],
            "needs_background": "light"
          }
        }
      ]
    },
    {
      "cell_type": "markdown",
      "metadata": {
        "id": "oq77MOPDmAnZ",
        "colab_type": "text"
      },
      "source": [
        "**Random Forest vs. Dummy classifier**\n",
        "\n",
        "Random Forest gets more gRNA regions with a higher percentage of correct predictions from the 8 labels. It gets all 8 outcomes classified as abundant/nonabundant correctly only for a 5% of targets. However, for most of the targets it gets about 5 to 7 outcomes from a total of 8 correctly classified, which is quite decent!"
      ]
    },
    {
      "cell_type": "code",
      "metadata": {
        "id": "9j4SW1tdmVfX",
        "colab_type": "code",
        "colab": {
          "base_uri": "https://localhost:8080/",
          "height": 297
        },
        "outputId": "571523d0-c7be-4b95-fc07-66fea4e81091"
      },
      "source": [
        "RFvDC = pd.DataFrame({'Coincidences':coinc_freq[\"Coincidences\"],\n",
        "                      'Dummy classifier':coinc_DCfreq[\"Frequency\"],\n",
        "                      'Random Forest':coinc_freq[\"Frequency\"]})\n",
        "RFvDC = pd.melt(RFvDC, id_vars=['Coincidences'], value_vars=['Dummy classifier','Random Forest'],\n",
        "                var_name='Classifier', value_name='Frequency')\n",
        "sns.barplot(x=\"Coincidences\", y=\"Frequency\", hue=\"Classifier\", data=RFvDC)\n",
        "plt.tight_layout()\n",
        "plt.savefig(\"Approach2vsDummy.png\", dpi=600)\n",
        "plt.show()"
      ],
      "execution_count": 39,
      "outputs": [
        {
          "output_type": "display_data",
          "data": {
            "image/png": "[encoded data removed]",
            "text/plain": [
              "<Figure size 432x288 with 1 Axes>"
            ]
          },
          "metadata": {
            "tags": [],
            "needs_background": "light"
          }
        }
      ]
    }
  ]
}