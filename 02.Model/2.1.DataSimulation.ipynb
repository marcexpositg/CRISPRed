{
  "nbformat": 4,
  "nbformat_minor": 0,
  "metadata": {
    "colab": {
      "name": "2.1.DataSimulation.ipynb",
      "provenance": [],
      "include_colab_link": true
    },
    "kernelspec": {
      "name": "python3",
      "display_name": "Python 3"
    }
  },
  "cells": [
    {
      "cell_type": "markdown",
      "metadata": {
        "id": "view-in-github",
        "colab_type": "text"
      },
      "source": [
        "<a href=\"https://colab.research.google.com/github/marcexpositg/CRISPRed/blob/master/02.Model/2.1.DataSimulation.ipynb\" target=\"_parent\"><img src=\"https://colab.research.google.com/assets/colab-badge.svg\" alt=\"Open In Colab\"/></a>"
      ]
    },
    {
      "cell_type": "markdown",
      "metadata": {
        "id": "7v-YHGYxyADH",
        "colab_type": "text"
      },
      "source": [
        "# 2.1. Data Simulation\n",
        "\n",
        "Data is simulated combining the efficiency predictions from Doench et.al 2014 and the outcomes diversity prediction of Indelphi (Shen et al 2018).\n",
        "\n",
        "Hence, it requires importing the InDelhpi Python module. This module was found in a public GitHub repository at: https://github.com/maxwshen/inDelphi-model\n",
        "One of the modules was modified, so a modified version is uploaded from the GitHub repository of these work."
      ]
    },
    {
      "cell_type": "code",
      "metadata": {
        "id": "6csEMsDTJKzA",
        "colab_type": "code",
        "colab": {
          "base_uri": "https://localhost:8080/",
          "height": 139
        },
        "outputId": "8bd192b1-fa54-4344-e7aa-9f5bdd187371"
      },
      "source": [
        "\n",
        "\n",
        "# Previously, the InDelhi module was loaded from drive, but required mounting drive manually.\n",
        "from google.colab import drive\n",
        "drive.mount('/content/drive')\n",
        "%cd \"drive/My Drive/CRISPred/02.Model\"\n",
        "#%cd \"drive/Shared\\ drives/CRISPred/02.Model\""
      ],
      "execution_count": null,
      "outputs": [
        {
          "output_type": "stream",
          "text": [
            "Go to this URL in a browser: https://accounts.google.com/o/oauth2/auth?client_id=947318989803-6bn6qk8qdgf4n4g3pfee6491hc0brc4i.apps.googleusercontent.com&redirect_uri=urn%3aietf%3awg%3aoauth%3a2.0%3aoob&response_type=code&scope=email%20https%3a%2f%2fwww.googleapis.com%2fauth%2fdocs.test%20https%3a%2f%2fwww.googleapis.com%2fauth%2fdrive%20https%3a%2f%2fwww.googleapis.com%2fauth%2fdrive.photos.readonly%20https%3a%2f%2fwww.googleapis.com%2fauth%2fpeopleapi.readonly\n",
            "\n",
            "Enter your authorization code:\n",
            "··········\n",
            "Mounted at /content/drive\n",
            "/content/drive/My Drive/CRISPred/02.Model\n"
          ],
          "name": "stdout"
        }
      ]
    },
    {
      "cell_type": "markdown",
      "metadata": {
        "id": "dwIe7hqELbap",
        "colab_type": "text"
      },
      "source": [
        "Indelphi requires scikit-learn==0.20.0, so the version available in Google collabs is downgraded to that version."
      ]
    },
    {
      "cell_type": "code",
      "metadata": {
        "id": "PnORSPa8Mv6k",
        "colab_type": "code",
        "colab": {
          "base_uri": "https://localhost:8080/",
          "height": 204
        },
        "outputId": "ac429b8f-ad3f-4ab2-a801-20f754e7a3c5"
      },
      "source": [
        "!pip install -q progress\n",
        "!pip install scikit-learn==0.20.0"
      ],
      "execution_count": null,
      "outputs": [
        {
          "output_type": "stream",
          "text": [
            "  Building wheel for progress (setup.py) ... \u001b[?25l\u001b[?25hdone\n",
            "Collecting scikit-learn==0.20.0\n",
            "\u001b[?25l  Downloading https://files.pythonhosted.org/packages/0c/b2/05be9b6da9ae4a4c54f537be22e95833f722742a02b1e355fdc09363877c/scikit_learn-0.20.0-cp36-cp36m-manylinux1_x86_64.whl (5.3MB)\n",
            "\u001b[K     |████████████████████████████████| 5.3MB 4.3MB/s \n",
            "\u001b[?25hRequirement already satisfied: scipy>=0.13.3 in /usr/local/lib/python3.6/dist-packages (from scikit-learn==0.20.0) (1.4.1)\n",
            "Requirement already satisfied: numpy>=1.8.2 in /usr/local/lib/python3.6/dist-packages (from scikit-learn==0.20.0) (1.18.5)\n",
            "Installing collected packages: scikit-learn\n",
            "  Found existing installation: scikit-learn 0.22.2.post1\n",
            "    Uninstalling scikit-learn-0.22.2.post1:\n",
            "      Successfully uninstalled scikit-learn-0.22.2.post1\n",
            "Successfully installed scikit-learn-0.20.0\n"
          ],
          "name": "stdout"
        }
      ]
    },
    {
      "cell_type": "code",
      "metadata": {
        "id": "GjTc7VOOVGGY",
        "colab_type": "code",
        "colab": {
          "base_uri": "https://localhost:8080/",
          "height": 292
        },
        "outputId": "6dac77d0-7e90-463d-b57c-33cda9082563"
      },
      "source": [
        "# This is just a code to test INdelphi\n",
        "\n",
        "import sys\n",
        "sys.path.append('./inDelphi-model/')\n",
        "import inDelphi\n",
        "inDelphi.init_model(celltype = 'mESC')\n",
        "\n",
        "left_seq = 'AGAATCGCCCGCGGTCCATCCTTTATCAGCGGGAATTCAAGCGCACCAGCCAGAGGTGTA'\n",
        "right_seq = 'CCGTGGACGTGAGAAAGAAGAAACATAATATTCGCACTAGATCCATCCCCATACCTGACC'\n",
        "seq = left_seq + right_seq\n",
        "cutsite = len(left_seq)\n",
        "\n",
        "pred_df, stats = inDelphi.predict(seq, cutsite)\n",
        "\n",
        "print(pred_df)\n",
        "\n",
        "print(stats)"
      ],
      "execution_count": null,
      "outputs": [
        {
          "output_type": "stream",
          "text": [
            "     Length Genotype position  Predicted frequency Category Inserted Bases\n",
            "0         5                 4         1.090908e+01      del            NaN\n",
            "1         7                 5         2.366646e+01      del            NaN\n",
            "2         7                 7         1.131012e+00      del            NaN\n",
            "3         8                 3         9.412543e-01      del            NaN\n",
            "4         8                 6         9.412543e-01      del            NaN\n",
            "..      ...               ...                  ...      ...            ...\n",
            "402      59                 e         5.209985e-07      del            NaN\n",
            "403       1               NaN         1.180538e+01      ins              A\n",
            "404       1               NaN         1.638573e+00      ins              C\n",
            "405       1               NaN         1.449101e+00      ins              T\n",
            "406       1               NaN         8.589149e-01      ins              G\n",
            "\n",
            "[407 rows x 5 columns]\n",
            "{'Phi': 1.911503071603351, 'Precision': 0.49365571536045105, '1-bp ins frequency': 15.751965746499657, 'MH del frequency': 66.34222754205281, 'MHless del frequency': 17.90580671144762, 'Frameshift frequency': 89.68697548058572, 'Frame +0 frequency': 10.313024519414371, 'Frame +1 frequency': 43.09160539134467, 'Frame +2 frequency': 46.595370089241044, 'Highest outcome frequency': 23.666460984749662, 'Highest del frequency': 23.666460984749662, 'Highest ins frequency': 11.805377247186748, 'Expected indel length': 7.03865976949394, 'Reference sequence': 'AGAATCGCCCGCGGTCCATCCTTTATCAGCGGGAATTCAAGCGCACCAGCCAGAGGTGTACCGTGGACGTGAGAAAGAAGAAACATAATATTCGCACTAGATCCATCCCCATACCTGACC', 'Cutsite': 60, 'gRNA': None, 'gRNA orientation': None, 'Cas9 type': None}\n"
          ],
          "name": "stdout"
        }
      ]
    },
    {
      "cell_type": "code",
      "metadata": {
        "id": "b3WKs56BKl1K",
        "colab_type": "code",
        "colab": {
          "base_uri": "https://localhost:8080/",
          "height": 663
        },
        "outputId": "3d85cfd1-9aea-4bde-f94a-aa8c039e63b4"
      },
      "source": [
        "import sys\n",
        "\n",
        "\n",
        "# Import indelphi.\n",
        "# For local usage:\n",
        "#sys.path.append('/home/mexposit/bioinf/simdata/inDelphi-model/')\n",
        "# For google collab:\n",
        "# not necessary: sys.path.append('drive/My Drive/CRISPred/02.Model/inDelphi-model/')\n",
        "sys.path.append('./inDelphi-model/')\n",
        "# for 3rd person: sys.path.append('drive/Shared\\ drives/CRISPred/02.Model/inDelphi-model/')\n",
        "import inDelphi\n",
        "\n",
        "import csv\n",
        "import numpy as np\n",
        "import pandas as pd\n",
        "\n",
        "from math import exp\n",
        "\n",
        "from progress.bar import Bar\n",
        "\n",
        "# Doench 2014 parameters\n",
        "doench_params = [\n",
        "# pasted/typed table from PDF and converted to zero-based positions\n",
        "(1,'G',-0.2753771),(2,'A',-0.3238875),(2,'C',0.17212887),(3,'C',-0.1006662),\n",
        "(4,'C',-0.2018029),(4,'G',0.24595663),(5,'A',0.03644004),(5,'C',0.09837684),\n",
        "(6,'C',-0.7411813),(6,'G',-0.3932644),(11,'A',-0.466099),(14,'A',0.08537695),\n",
        "(14,'C',-0.013814),(15,'A',0.27262051),(15,'C',-0.1190226),(15,'T',-0.2859442),\n",
        "(16,'A',0.09745459),(16,'G',-0.1755462),(17,'C',-0.3457955),(17,'G',-0.6780964),\n",
        "(18,'A',0.22508903),(18,'C',-0.5077941),(19,'G',-0.4173736),(19,'T',-0.054307),\n",
        "(20,'G',0.37989937),(20,'T',-0.0907126),(21,'C',0.05782332),(21,'T',-0.5305673),\n",
        "(22,'T',-0.8770074),(23,'C',-0.8762358),(23,'G',0.27891626),(23,'T',-0.4031022),\n",
        "(24,'A',-0.0773007),(24,'C',0.28793562),(24,'T',-0.2216372),(27,'G',-0.6890167),\n",
        "(27,'T',0.11787758),(28,'C',-0.1604453),(29,'G',0.38634258),(1,'GT',-0.6257787),\n",
        "(4,'GC',0.30004332),(5,'AA',-0.8348362),(5,'TA',0.76062777),(6,'GG',-0.4908167),\n",
        "(11,'GG',-1.5169074),(11,'TA',0.7092612),(11,'TC',0.49629861),(11,'TT',-0.5868739),\n",
        "(12,'GG',-0.3345637),(13,'GA',0.76384993),(13,'GC',-0.5370252),(16,'TG',-0.7981461),\n",
        "(18,'GG',-0.6668087),(18,'TC',0.35318325),(19,'CC',0.74807209),(19,'TG',-0.3672668),\n",
        "(20,'AC',0.56820913),(20,'CG',0.32907207),(20,'GA',-0.8364568),(20,'GG',-0.7822076),\n",
        "(21,'TC',-1.029693),(22,'CG',0.85619782),(22,'CT',-0.4632077),(23,'AA',-0.5794924),\n",
        "(23,'AG',0.64907554),(24,'AG',-0.0773007),(24,'CG',0.28793562),(24,'TG',-0.2216372),\n",
        "(26,'GT',0.11787758),(28,'GG',-0.69774)]\n",
        "\n",
        "def calc_doench_score(seq):\n",
        "    \"\"\"\n",
        "    Addapted FROM CRISPOR!! This is the Doench, 2014 score. Not the 2016.\n",
        "    Code reproduced following paper's methods section. Thanks to Daniel McPherson for fixing it.\n",
        "    Input is a 30mer: 4bp 5', 20bp guide, 3bp PAM, 3bp 5'\n",
        "    Output is a gRNA activity score, scaled from 0 (low efficiency) to 100 (high efficiency).\n",
        "    \"\"\"\n",
        "    intercept = 0.59763615\n",
        "    gc_high = -0.1665878\n",
        "    gc_low = -0.2026259\n",
        "\n",
        "    assert(len(seq)==30)\n",
        "    score = intercept\n",
        "\n",
        "    grna_seq = seq[4:24]\n",
        "    gc_count = grna_seq.count(\"G\") + grna_seq.count(\"C\")\n",
        "    if gc_count <= 10:\n",
        "        gc_weight = gc_low\n",
        "    if gc_count > 10:\n",
        "        gc_weight = gc_high\n",
        "    score += abs(10-gc_count)*gc_weight\n",
        "\n",
        "    for pos, model_seq, weight in doench_params:\n",
        "        sub_seq = seq[pos:pos+len(model_seq)]\n",
        "        if sub_seq == model_seq:\n",
        "            score += weight\n",
        "    exp_score = int(100*(1.0/(1.0+exp(-score))))\n",
        "\n",
        "    return exp_score\n",
        "\n",
        "# input data, define cutsite and number of reads\n",
        "# all gRNAs must be in the same orientation and position (if not, doench score would fail)\n",
        "\n",
        "# For local: #target_regions_file = 'C3H_targets.csv'\n",
        "# For Google Collabs, smaller example (3 sequences only):\n",
        "target_regions_file = 'SimData/C3H_targets_example.csv'\n",
        "\n",
        "cutsite = 60\n",
        "sim_reads = 5000\n",
        "\n",
        "# #target_seqs = pd.read_csv('target_regions.csv', names=['gRNA_id', 'target_seq'])\n",
        "target_seqs_data = dict(csv.reader(open(target_regions_file, 'r')))\n",
        "\n",
        "sim_data = pd.DataFrame()\n",
        "sim_info = pd.DataFrame()\n",
        "\n",
        "bar = Bar('Simulating sequences:', max=len(target_seqs_data))\n",
        "\n",
        "for gRNA_id, target_seq in target_seqs_data.items():\n",
        "\n",
        "    # Calculate activity score using doench for that guide\n",
        "    ## 30mer: 4bp 5', 20bp guide, 3bp PAM, 3bp 5'\n",
        "    seq_for_doench = target_seq[ cutsite - 21 : cutsite + 9]\n",
        "    doench_score = calc_doench_score(seq_for_doench)\n",
        "    ## doench score is from 0 to 100, scale to get numb of edited reads\n",
        "    n_edit_seqs = round(doench_score * sim_reads / 100) #round to have an integer number of reads\n",
        "\n",
        "    # Calculate editing outcomes\n",
        "    inDelphi.init_model(celltype = 'mESC')\n",
        "    pred_df, stats = inDelphi.predict(target_seq, cutsite)\n",
        "    pred_df = inDelphi.add_mhless_genotypes(pred_df,stats)\n",
        "    #pred_df = inDelphi.add_genotype_column(pred_df,stats)\n",
        "    ## adds gaps in the deletions, use add_genotype_column to avoid gaps, but sequences could be confused\n",
        "    pred_df = inDelphi.add_genotype_column_wgaps(pred_df,stats)\n",
        "    pred_frequency = np.array(pred_df[\"Predicted frequency\"])\n",
        "    # normalize probabilities to sum exactly 1\n",
        "    pred_frequency /= pred_frequency.sum()\n",
        "\n",
        "    # Simulate data\n",
        "    ## first, create the edited reads\n",
        "    edit_seqs = np.random.choice(pred_df[\"Genotype\"], p=pred_frequency, size=(n_edit_seqs))\n",
        "    ## add non edited reads up to the sim_reads objective\n",
        "    wt_seqs = np.repeat(target_seq, sim_reads-n_edit_seqs)\n",
        "    ## merge both and keep in dataframe\n",
        "    sim_seqs = np.append(edit_seqs,wt_seqs)\n",
        "    sim_data[gRNA_id] = sim_seqs\n",
        "\n",
        "    # Keep useful information about simulation\n",
        "    ## pred_df contains summary of outcomes, but rows are in different order for each simulation\n",
        "    ## stats has many important parameters\n",
        "    ## append doench score from 0 to 1, and store in dataframe\n",
        "    stats['doench_eff_score'] = doench_score\n",
        "    sim_info[gRNA_id] = pd.Series(stats)\n",
        "\n",
        "    # Next progress bar\n",
        "    bar.next()\n",
        "\n",
        "bar.finish()\n",
        "# For local:\n",
        "#sim_data.to_csv('sim_data_grna_lib_ex.csv', index=None)\n",
        "#sim_info.to_csv('sim_info_grna_lib_ex.csv')\n",
        "# For google collabs:\n",
        "sim_data.to_csv('SimData/sim_data_grna_lib_ex.csv', index=None)\n",
        "sim_info.to_csv('SimData/sim_info_grna_lib_ex.csv')\n",
        "print(\"This is the file used to quantify the outcomes:\")\n",
        "print(sim_data)\n",
        "print(\"This is just a file with information about the simulation:\")\n",
        "print(sim_info)"
      ],
      "execution_count": null,
      "outputs": [
        {
          "output_type": "stream",
          "text": [
            "This is the file used to quantify the outcomes:\n",
            "                              ENSMUSG00000033788_gR434r  ...                           ENSMUSG00000033788_gR70f\n",
            "0     CTCCTAAAGATTGATAATGGTGACAGCTAAACTTCCCCCACTATGG...  ...  CTGACTAACGTTGAATATCGATAAGACACAGAGAAGAGGGGTGGGG...\n",
            "1     CTCCTAAAGATTGATAATGGTGACAGCTAAACTTCCCCCACTATGG...  ...  CTGACTAACGTTGAATATCGATAAGACACAGAGAAGAGGGGTGGGG...\n",
            "2     CTCCTAAAGATTGATAATGGTGACAGCTAAACTTCCCCCACTATGG...  ...  CTGACTAACGTTGAATATCGATAAGACACAGAGAAGAGGGGTGGGG...\n",
            "3     CTCCTAAAGATTGATAATGGTGACAGCTAAACTTCCCCCACTATGG...  ...  CTGACTAACGTTGAATATCGATAAGACACAGAGAAGAGGGGTGGGG...\n",
            "4     CTCCTAAAGATTGATAATGGTGACAGCTAAACTTCCCCCACTATGG...  ...  CTGACTAACGTTGAATATCGATAAGACACAGAGAAGAGGGGTGGGG...\n",
            "...                                                 ...  ...                                                ...\n",
            "4995  CTCCTAAAGATTGATAATGGTGACAGCTAAACTTCCCCCACTATGG...  ...  CTGACTAACGTTGAATATCGATAAGACACAGAGAAGAGGGGTGGGG...\n",
            "4996  CTCCTAAAGATTGATAATGGTGACAGCTAAACTTCCCCCACTATGG...  ...  CTGACTAACGTTGAATATCGATAAGACACAGAGAAGAGGGGTGGGG...\n",
            "4997  CTCCTAAAGATTGATAATGGTGACAGCTAAACTTCCCCCACTATGG...  ...  CTGACTAACGTTGAATATCGATAAGACACAGAGAAGAGGGGTGGGG...\n",
            "4998  CTCCTAAAGATTGATAATGGTGACAGCTAAACTTCCCCCACTATGG...  ...  CTGACTAACGTTGAATATCGATAAGACACAGAGAAGAGGGGTGGGG...\n",
            "4999  CTCCTAAAGATTGATAATGGTGACAGCTAAACTTCCCCCACTATGG...  ...  CTGACTAACGTTGAATATCGATAAGACACAGAGAAGAGGGGTGGGG...\n",
            "\n",
            "[5000 rows x 3 columns]\n",
            "This is just a file with information about the simulation:\n",
            "                                                   ENSMUSG00000033788_gR434r  ...                           ENSMUSG00000033788_gR70f\n",
            "Phi                                                                  6.29774  ...                                            1.55193\n",
            "Precision                                                            0.49485  ...                                           0.433067\n",
            "1-bp ins frequency                                                    17.433  ...                                            13.9793\n",
            "MH del frequency                                                     78.4637  ...                                            63.5021\n",
            "MHless del frequency                                                 4.10338  ...                                            22.5186\n",
            "Frameshift frequency                                                  73.845  ...                                            70.9993\n",
            "Frame +0 frequency                                                    26.155  ...                                            29.0007\n",
            "Frame +1 frequency                                                   47.5977  ...                                            47.0879\n",
            "Frame +2 frequency                                                   26.2473  ...                                            23.9114\n",
            "Highest outcome frequency                                            15.4002  ...                                            10.9493\n",
            "Highest del frequency                                                15.4002  ...                                            10.9493\n",
            "Highest ins frequency                                                14.9204  ...                                            10.0749\n",
            "Expected indel length                                                7.99953  ...                                            7.69332\n",
            "Reference sequence         CTCCTAAAGATTGATAATGGTGACAGCTAAACTTCCCCCACTATGG...  ...  CTGACTAACGTTGAATATCGATAAGACACAGAGAAGAGGGGTGGGG...\n",
            "Cutsite                                                                   60  ...                                                 60\n",
            "gRNA                                                                    None  ...                                               None\n",
            "gRNA orientation                                                        None  ...                                               None\n",
            "Cas9 type                                                               None  ...                                               None\n",
            "doench_eff_score                                                           1  ...                                                 30\n",
            "\n",
            "[19 rows x 3 columns]\n"
          ],
          "name": "stdout"
        }
      ]
    }
  ]
}